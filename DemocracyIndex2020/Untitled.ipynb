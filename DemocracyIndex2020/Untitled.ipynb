{
 "cells": [
  {
   "cell_type": "code",
   "execution_count": 1,
   "id": "72821461",
   "metadata": {},
   "outputs": [],
   "source": [
    "import pandas as pd\n",
    "import numpy as np\n",
    "import matplotlib.pyplot as plt"
   ]
  },
  {
   "cell_type": "code",
   "execution_count": 2,
   "id": "710da3f1",
   "metadata": {},
   "outputs": [
    {
     "data": {
      "text/html": [
       "<div>\n",
       "<style scoped>\n",
       "    .dataframe tbody tr th:only-of-type {\n",
       "        vertical-align: middle;\n",
       "    }\n",
       "\n",
       "    .dataframe tbody tr th {\n",
       "        vertical-align: top;\n",
       "    }\n",
       "\n",
       "    .dataframe thead th {\n",
       "        text-align: right;\n",
       "    }\n",
       "</style>\n",
       "<table border=\"1\" class=\"dataframe\">\n",
       "  <thead>\n",
       "    <tr style=\"text-align: right;\">\n",
       "      <th></th>\n",
       "      <th>Country</th>\n",
       "      <th>Continent</th>\n",
       "      <th>Overall score</th>\n",
       "      <th>Rank</th>\n",
       "      <th>I Electoral process and pluralism</th>\n",
       "      <th>II Functioning of government</th>\n",
       "      <th>III Political participation</th>\n",
       "      <th>IV Political culture</th>\n",
       "      <th>V Civil liberties</th>\n",
       "    </tr>\n",
       "  </thead>\n",
       "  <tbody>\n",
       "    <tr>\n",
       "      <th>0</th>\n",
       "      <td>Norway</td>\n",
       "      <td>Europe</td>\n",
       "      <td>9.81</td>\n",
       "      <td>1</td>\n",
       "      <td>10.00</td>\n",
       "      <td>9.64</td>\n",
       "      <td>10.00</td>\n",
       "      <td>10.00</td>\n",
       "      <td>9.41</td>\n",
       "    </tr>\n",
       "    <tr>\n",
       "      <th>1</th>\n",
       "      <td>Iceland</td>\n",
       "      <td>Europe</td>\n",
       "      <td>9.37</td>\n",
       "      <td>2</td>\n",
       "      <td>10.00</td>\n",
       "      <td>8.57</td>\n",
       "      <td>8.89</td>\n",
       "      <td>10.00</td>\n",
       "      <td>9.41</td>\n",
       "    </tr>\n",
       "    <tr>\n",
       "      <th>2</th>\n",
       "      <td>Sweden</td>\n",
       "      <td>Europe</td>\n",
       "      <td>9.26</td>\n",
       "      <td>3</td>\n",
       "      <td>9.58</td>\n",
       "      <td>9.29</td>\n",
       "      <td>8.33</td>\n",
       "      <td>10.00</td>\n",
       "      <td>9.12</td>\n",
       "    </tr>\n",
       "    <tr>\n",
       "      <th>3</th>\n",
       "      <td>New Zealand</td>\n",
       "      <td>Oceania</td>\n",
       "      <td>9.25</td>\n",
       "      <td>4</td>\n",
       "      <td>10.00</td>\n",
       "      <td>8.93</td>\n",
       "      <td>8.89</td>\n",
       "      <td>8.75</td>\n",
       "      <td>9.71</td>\n",
       "    </tr>\n",
       "    <tr>\n",
       "      <th>4</th>\n",
       "      <td>Canada</td>\n",
       "      <td>Americas</td>\n",
       "      <td>9.24</td>\n",
       "      <td>5</td>\n",
       "      <td>9.58</td>\n",
       "      <td>8.93</td>\n",
       "      <td>8.89</td>\n",
       "      <td>9.38</td>\n",
       "      <td>9.41</td>\n",
       "    </tr>\n",
       "  </tbody>\n",
       "</table>\n",
       "</div>"
      ],
      "text/plain": [
       "       Country Continent  Overall score  Rank  \\\n",
       "0       Norway    Europe           9.81     1   \n",
       "1      Iceland    Europe           9.37     2   \n",
       "2       Sweden    Europe           9.26     3   \n",
       "3  New Zealand   Oceania           9.25     4   \n",
       "4       Canada  Americas           9.24     5   \n",
       "\n",
       "   I Electoral process and pluralism  II Functioning of government  \\\n",
       "0                              10.00                          9.64   \n",
       "1                              10.00                          8.57   \n",
       "2                               9.58                          9.29   \n",
       "3                              10.00                          8.93   \n",
       "4                               9.58                          8.93   \n",
       "\n",
       "   III Political participation  IV Political culture  V Civil liberties  \n",
       "0                        10.00                 10.00               9.41  \n",
       "1                         8.89                 10.00               9.41  \n",
       "2                         8.33                 10.00               9.12  \n",
       "3                         8.89                  8.75               9.71  \n",
       "4                         8.89                  9.38               9.41  "
      ]
     },
     "execution_count": 2,
     "metadata": {},
     "output_type": "execute_result"
    }
   ],
   "source": [
    "#Data from the Economist Intelligence Unit: Democracy Index 2020\n",
    "df_economist_2020 = pd.read_excel(\"EIUData.xlsx\",sheet_name=\"2020\")\n",
    "df_economist_2020.head()"
   ]
  },
  {
   "cell_type": "code",
   "execution_count": 3,
   "id": "3e73dd61",
   "metadata": {},
   "outputs": [
    {
     "data": {
      "text/html": [
       "<div>\n",
       "<style scoped>\n",
       "    .dataframe tbody tr th:only-of-type {\n",
       "        vertical-align: middle;\n",
       "    }\n",
       "\n",
       "    .dataframe tbody tr th {\n",
       "        vertical-align: top;\n",
       "    }\n",
       "\n",
       "    .dataframe thead th {\n",
       "        text-align: right;\n",
       "    }\n",
       "</style>\n",
       "<table border=\"1\" class=\"dataframe\">\n",
       "  <thead>\n",
       "    <tr style=\"text-align: right;\">\n",
       "      <th></th>\n",
       "      <th>Overall score</th>\n",
       "      <th>Rank</th>\n",
       "      <th>I Electoral process and pluralism</th>\n",
       "      <th>II Functioning of government</th>\n",
       "      <th>III Political participation</th>\n",
       "      <th>IV Political culture</th>\n",
       "      <th>V Civil liberties</th>\n",
       "    </tr>\n",
       "  </thead>\n",
       "  <tbody>\n",
       "    <tr>\n",
       "      <th>count</th>\n",
       "      <td>167.000000</td>\n",
       "      <td>167.000000</td>\n",
       "      <td>167.000000</td>\n",
       "      <td>167.000000</td>\n",
       "      <td>167.000000</td>\n",
       "      <td>167.000000</td>\n",
       "      <td>167.000000</td>\n",
       "    </tr>\n",
       "    <tr>\n",
       "      <th>mean</th>\n",
       "      <td>5.369760</td>\n",
       "      <td>83.928144</td>\n",
       "      <td>5.749401</td>\n",
       "      <td>4.676467</td>\n",
       "      <td>5.389401</td>\n",
       "      <td>5.549042</td>\n",
       "      <td>5.489581</td>\n",
       "    </tr>\n",
       "    <tr>\n",
       "      <th>std</th>\n",
       "      <td>2.252275</td>\n",
       "      <td>48.364152</td>\n",
       "      <td>3.711786</td>\n",
       "      <td>2.514419</td>\n",
       "      <td>1.911512</td>\n",
       "      <td>1.749007</td>\n",
       "      <td>2.656580</td>\n",
       "    </tr>\n",
       "    <tr>\n",
       "      <th>min</th>\n",
       "      <td>1.080000</td>\n",
       "      <td>1.000000</td>\n",
       "      <td>0.000000</td>\n",
       "      <td>0.000000</td>\n",
       "      <td>0.560000</td>\n",
       "      <td>1.250000</td>\n",
       "      <td>0.000000</td>\n",
       "    </tr>\n",
       "    <tr>\n",
       "      <th>25%</th>\n",
       "      <td>3.265000</td>\n",
       "      <td>42.000000</td>\n",
       "      <td>2.210000</td>\n",
       "      <td>2.860000</td>\n",
       "      <td>3.890000</td>\n",
       "      <td>4.380000</td>\n",
       "      <td>3.240000</td>\n",
       "    </tr>\n",
       "    <tr>\n",
       "      <th>50%</th>\n",
       "      <td>5.710000</td>\n",
       "      <td>84.000000</td>\n",
       "      <td>7.000000</td>\n",
       "      <td>5.000000</td>\n",
       "      <td>5.560000</td>\n",
       "      <td>5.630000</td>\n",
       "      <td>5.590000</td>\n",
       "    </tr>\n",
       "    <tr>\n",
       "      <th>75%</th>\n",
       "      <td>7.130000</td>\n",
       "      <td>125.500000</td>\n",
       "      <td>9.170000</td>\n",
       "      <td>6.430000</td>\n",
       "      <td>6.670000</td>\n",
       "      <td>6.250000</td>\n",
       "      <td>7.940000</td>\n",
       "    </tr>\n",
       "    <tr>\n",
       "      <th>max</th>\n",
       "      <td>9.810000</td>\n",
       "      <td>167.000000</td>\n",
       "      <td>10.000000</td>\n",
       "      <td>9.640000</td>\n",
       "      <td>10.000000</td>\n",
       "      <td>10.000000</td>\n",
       "      <td>9.710000</td>\n",
       "    </tr>\n",
       "  </tbody>\n",
       "</table>\n",
       "</div>"
      ],
      "text/plain": [
       "       Overall score        Rank  I Electoral process and pluralism  \\\n",
       "count     167.000000  167.000000                         167.000000   \n",
       "mean        5.369760   83.928144                           5.749401   \n",
       "std         2.252275   48.364152                           3.711786   \n",
       "min         1.080000    1.000000                           0.000000   \n",
       "25%         3.265000   42.000000                           2.210000   \n",
       "50%         5.710000   84.000000                           7.000000   \n",
       "75%         7.130000  125.500000                           9.170000   \n",
       "max         9.810000  167.000000                          10.000000   \n",
       "\n",
       "       II Functioning of government  III Political participation  \\\n",
       "count                    167.000000                   167.000000   \n",
       "mean                       4.676467                     5.389401   \n",
       "std                        2.514419                     1.911512   \n",
       "min                        0.000000                     0.560000   \n",
       "25%                        2.860000                     3.890000   \n",
       "50%                        5.000000                     5.560000   \n",
       "75%                        6.430000                     6.670000   \n",
       "max                        9.640000                    10.000000   \n",
       "\n",
       "       IV Political culture  V Civil liberties  \n",
       "count            167.000000         167.000000  \n",
       "mean               5.549042           5.489581  \n",
       "std                1.749007           2.656580  \n",
       "min                1.250000           0.000000  \n",
       "25%                4.380000           3.240000  \n",
       "50%                5.630000           5.590000  \n",
       "75%                6.250000           7.940000  \n",
       "max               10.000000           9.710000  "
      ]
     },
     "execution_count": 3,
     "metadata": {},
     "output_type": "execute_result"
    }
   ],
   "source": [
    "df_economist_2020.describe()"
   ]
  },
  {
   "cell_type": "code",
   "execution_count": 4,
   "id": "b8ec2635",
   "metadata": {},
   "outputs": [
    {
     "name": "stdout",
     "output_type": "stream",
     "text": [
      "<class 'pandas.core.frame.DataFrame'>\n",
      "RangeIndex: 167 entries, 0 to 166\n",
      "Data columns (total 9 columns):\n",
      " #   Column                             Non-Null Count  Dtype  \n",
      "---  ------                             --------------  -----  \n",
      " 0   Country                            167 non-null    object \n",
      " 1   Continent                          167 non-null    object \n",
      " 2   Overall score                      167 non-null    float64\n",
      " 3   Rank                               167 non-null    int64  \n",
      " 4   I Electoral process and pluralism  167 non-null    float64\n",
      " 5   II Functioning of government       167 non-null    float64\n",
      " 6   III Political participation        167 non-null    float64\n",
      " 7   IV Political culture               167 non-null    float64\n",
      " 8   V Civil liberties                  167 non-null    float64\n",
      "dtypes: float64(6), int64(1), object(2)\n",
      "memory usage: 11.9+ KB\n"
     ]
    }
   ],
   "source": [
    "df_economist_2020.info()"
   ]
  },
  {
   "cell_type": "code",
   "execution_count": 5,
   "id": "98a44f08",
   "metadata": {},
   "outputs": [
    {
     "data": {
      "text/html": [
       "<div>\n",
       "<style scoped>\n",
       "    .dataframe tbody tr th:only-of-type {\n",
       "        vertical-align: middle;\n",
       "    }\n",
       "\n",
       "    .dataframe tbody tr th {\n",
       "        vertical-align: top;\n",
       "    }\n",
       "\n",
       "    .dataframe thead th {\n",
       "        text-align: right;\n",
       "    }\n",
       "</style>\n",
       "<table border=\"1\" class=\"dataframe\">\n",
       "  <thead>\n",
       "    <tr style=\"text-align: right;\">\n",
       "      <th></th>\n",
       "      <th>Total</th>\n",
       "      <th>Benin</th>\n",
       "      <th>Botswana</th>\n",
       "      <th>Burkina Faso</th>\n",
       "      <th>Cabo Verde</th>\n",
       "      <th>Cameroon</th>\n",
       "      <th>Côte d´Ivoire</th>\n",
       "      <th>eSwatini</th>\n",
       "      <th>Gabon</th>\n",
       "      <th>Gambia</th>\n",
       "      <th>...</th>\n",
       "      <th>Senegal</th>\n",
       "      <th>Sierra Leone</th>\n",
       "      <th>South Africa</th>\n",
       "      <th>Sudan</th>\n",
       "      <th>Tanzania</th>\n",
       "      <th>Togo</th>\n",
       "      <th>Tunisia</th>\n",
       "      <th>Uganda</th>\n",
       "      <th>Zambia</th>\n",
       "      <th>Zimbabwe</th>\n",
       "    </tr>\n",
       "  </thead>\n",
       "  <tbody>\n",
       "    <tr>\n",
       "      <th>The country is not a democracy</th>\n",
       "      <td>1.8</td>\n",
       "      <td>0.1</td>\n",
       "      <td>0.3</td>\n",
       "      <td>0.5</td>\n",
       "      <td>0.3</td>\n",
       "      <td>1.8</td>\n",
       "      <td>1.3</td>\n",
       "      <td>14.1</td>\n",
       "      <td>1.7</td>\n",
       "      <td>1</td>\n",
       "      <td>...</td>\n",
       "      <td>0.5</td>\n",
       "      <td>1</td>\n",
       "      <td>0.4</td>\n",
       "      <td>5.4</td>\n",
       "      <td>0.2</td>\n",
       "      <td>5.1</td>\n",
       "      <td>1</td>\n",
       "      <td>1.7</td>\n",
       "      <td>1</td>\n",
       "      <td>10.8</td>\n",
       "    </tr>\n",
       "    <tr>\n",
       "      <th>Not at all satisfied</th>\n",
       "      <td>21.7</td>\n",
       "      <td>17</td>\n",
       "      <td>13.8</td>\n",
       "      <td>6.9</td>\n",
       "      <td>27.7</td>\n",
       "      <td>30.2</td>\n",
       "      <td>18.1</td>\n",
       "      <td>20.5</td>\n",
       "      <td>53.1</td>\n",
       "      <td>19.3</td>\n",
       "      <td>...</td>\n",
       "      <td>12.6</td>\n",
       "      <td>12.5</td>\n",
       "      <td>30.7</td>\n",
       "      <td>29.4</td>\n",
       "      <td>8.5</td>\n",
       "      <td>43.9</td>\n",
       "      <td>33.6</td>\n",
       "      <td>14.5</td>\n",
       "      <td>16.1</td>\n",
       "      <td>18.5</td>\n",
       "    </tr>\n",
       "    <tr>\n",
       "      <th>Not very satisfied</th>\n",
       "      <td>27.6</td>\n",
       "      <td>30.6</td>\n",
       "      <td>26.9</td>\n",
       "      <td>29.5</td>\n",
       "      <td>48.4</td>\n",
       "      <td>32</td>\n",
       "      <td>34.4</td>\n",
       "      <td>28.5</td>\n",
       "      <td>34</td>\n",
       "      <td>19.4</td>\n",
       "      <td>...</td>\n",
       "      <td>24</td>\n",
       "      <td>16.9</td>\n",
       "      <td>26</td>\n",
       "      <td>30.6</td>\n",
       "      <td>9.5</td>\n",
       "      <td>28.3</td>\n",
       "      <td>17</td>\n",
       "      <td>29.4</td>\n",
       "      <td>31.4</td>\n",
       "      <td>23.2</td>\n",
       "    </tr>\n",
       "    <tr>\n",
       "      <th>Fairly satisfied</th>\n",
       "      <td>30.7</td>\n",
       "      <td>36.2</td>\n",
       "      <td>39.4</td>\n",
       "      <td>44.2</td>\n",
       "      <td>15.4</td>\n",
       "      <td>21</td>\n",
       "      <td>29.9</td>\n",
       "      <td>22.8</td>\n",
       "      <td>8.4</td>\n",
       "      <td>27.4</td>\n",
       "      <td>...</td>\n",
       "      <td>44.5</td>\n",
       "      <td>37.4</td>\n",
       "      <td>30.5</td>\n",
       "      <td>21.2</td>\n",
       "      <td>52.5</td>\n",
       "      <td>15.3</td>\n",
       "      <td>40.1</td>\n",
       "      <td>35.8</td>\n",
       "      <td>32</td>\n",
       "      <td>24.6</td>\n",
       "    </tr>\n",
       "    <tr>\n",
       "      <th>Very satisfied</th>\n",
       "      <td>14</td>\n",
       "      <td>14.3</td>\n",
       "      <td>19</td>\n",
       "      <td>15.4</td>\n",
       "      <td>6.5</td>\n",
       "      <td>8</td>\n",
       "      <td>10.7</td>\n",
       "      <td>5.2</td>\n",
       "      <td>2.4</td>\n",
       "      <td>31.4</td>\n",
       "      <td>...</td>\n",
       "      <td>14.6</td>\n",
       "      <td>28.3</td>\n",
       "      <td>11.7</td>\n",
       "      <td>8.8</td>\n",
       "      <td>22.7</td>\n",
       "      <td>3.6</td>\n",
       "      <td>6.2</td>\n",
       "      <td>10.8</td>\n",
       "      <td>16.9</td>\n",
       "      <td>13.8</td>\n",
       "    </tr>\n",
       "    <tr>\n",
       "      <th>Don´t know</th>\n",
       "      <td>4.2</td>\n",
       "      <td>1.7</td>\n",
       "      <td>0.6</td>\n",
       "      <td>3.5</td>\n",
       "      <td>1.7</td>\n",
       "      <td>7</td>\n",
       "      <td>5.6</td>\n",
       "      <td>9</td>\n",
       "      <td>0.4</td>\n",
       "      <td>1.5</td>\n",
       "      <td>...</td>\n",
       "      <td>3.8</td>\n",
       "      <td>3.9</td>\n",
       "      <td>0.7</td>\n",
       "      <td>4.6</td>\n",
       "      <td>6.6</td>\n",
       "      <td>3.9</td>\n",
       "      <td>2.1</td>\n",
       "      <td>7.8</td>\n",
       "      <td>2.6</td>\n",
       "      <td>9.1</td>\n",
       "    </tr>\n",
       "    <tr>\n",
       "      <th>(N)</th>\n",
       "      <td>45,701 (100)</td>\n",
       "      <td>1,199 (100)</td>\n",
       "      <td>1,196 (100)</td>\n",
       "      <td>1,195 (100)</td>\n",
       "      <td>1,200 (100)</td>\n",
       "      <td>1,197 (100)</td>\n",
       "      <td>1,191 (100)</td>\n",
       "      <td>1,199 (100)</td>\n",
       "      <td>1,197 (100)</td>\n",
       "      <td>1,196 (100)</td>\n",
       "      <td>...</td>\n",
       "      <td>1,199 (100)</td>\n",
       "      <td>1,199 (100)</td>\n",
       "      <td>1,826 (100)</td>\n",
       "      <td>1,197 (100)</td>\n",
       "      <td>2,398 (100)</td>\n",
       "      <td>1,198 (100)</td>\n",
       "      <td>1,199 (100)</td>\n",
       "      <td>1,197 (100)</td>\n",
       "      <td>1,198 (100)</td>\n",
       "      <td>1,182 (100)</td>\n",
       "    </tr>\n",
       "  </tbody>\n",
       "</table>\n",
       "<p>7 rows × 35 columns</p>\n",
       "</div>"
      ],
      "text/plain": [
       "                                       Total        Benin     Botswana  \\\n",
       "The country is not a democracy           1.8          0.1          0.3   \n",
       "Not at all satisfied                    21.7           17         13.8   \n",
       "Not very satisfied                      27.6         30.6         26.9   \n",
       "Fairly satisfied                        30.7         36.2         39.4   \n",
       "Very satisfied                            14         14.3           19   \n",
       "Don´t know                               4.2          1.7          0.6   \n",
       "(N)                             45,701 (100)  1,199 (100)  1,196 (100)   \n",
       "\n",
       "                                Burkina Faso   Cabo Verde     Cameroon  \\\n",
       "The country is not a democracy           0.5          0.3          1.8   \n",
       "Not at all satisfied                     6.9         27.7         30.2   \n",
       "Not very satisfied                      29.5         48.4           32   \n",
       "Fairly satisfied                        44.2         15.4           21   \n",
       "Very satisfied                          15.4          6.5            8   \n",
       "Don´t know                               3.5          1.7            7   \n",
       "(N)                              1,195 (100)  1,200 (100)  1,197 (100)   \n",
       "\n",
       "                                Côte d´Ivoire     eSwatini        Gabon  \\\n",
       "The country is not a democracy            1.3         14.1          1.7   \n",
       "Not at all satisfied                     18.1         20.5         53.1   \n",
       "Not very satisfied                       34.4         28.5           34   \n",
       "Fairly satisfied                         29.9         22.8          8.4   \n",
       "Very satisfied                           10.7          5.2          2.4   \n",
       "Don´t know                                5.6            9          0.4   \n",
       "(N)                               1,191 (100)  1,199 (100)  1,197 (100)   \n",
       "\n",
       "                                     Gambia  ...      Senegal  Sierra Leone  \\\n",
       "The country is not a democracy            1  ...          0.5             1   \n",
       "Not at all satisfied                   19.3  ...         12.6          12.5   \n",
       "Not very satisfied                     19.4  ...           24          16.9   \n",
       "Fairly satisfied                       27.4  ...         44.5          37.4   \n",
       "Very satisfied                         31.4  ...         14.6          28.3   \n",
       "Don´t know                              1.5  ...          3.8           3.9   \n",
       "(N)                             1,196 (100)  ...  1,199 (100)   1,199 (100)   \n",
       "\n",
       "                                South Africa        Sudan     Tanzania  \\\n",
       "The country is not a democracy           0.4          5.4          0.2   \n",
       "Not at all satisfied                    30.7         29.4          8.5   \n",
       "Not very satisfied                        26         30.6          9.5   \n",
       "Fairly satisfied                        30.5         21.2         52.5   \n",
       "Very satisfied                          11.7          8.8         22.7   \n",
       "Don´t know                               0.7          4.6          6.6   \n",
       "(N)                              1,826 (100)  1,197 (100)  2,398 (100)   \n",
       "\n",
       "                                       Togo      Tunisia       Uganda  \\\n",
       "The country is not a democracy          5.1            1          1.7   \n",
       "Not at all satisfied                   43.9         33.6         14.5   \n",
       "Not very satisfied                     28.3           17         29.4   \n",
       "Fairly satisfied                       15.3         40.1         35.8   \n",
       "Very satisfied                          3.6          6.2         10.8   \n",
       "Don´t know                              3.9          2.1          7.8   \n",
       "(N)                             1,198 (100)  1,199 (100)  1,197 (100)   \n",
       "\n",
       "                                     Zambia     Zimbabwe  \n",
       "The country is not a democracy            1         10.8  \n",
       "Not at all satisfied                   16.1         18.5  \n",
       "Not very satisfied                     31.4         23.2  \n",
       "Fairly satisfied                         32         24.6  \n",
       "Very satisfied                         16.9         13.8  \n",
       "Don´t know                              2.6          9.1  \n",
       "(N)                             1,198 (100)  1,182 (100)  \n",
       "\n",
       "[7 rows x 35 columns]"
      ]
     },
     "execution_count": 5,
     "metadata": {},
     "output_type": "execute_result"
    }
   ],
   "source": [
    "#Data from the Economist Intelligence Unit: Democracy Index 2020\n",
    "df_afrobarometer = pd.read_excel(\"Africa_Satisfaction_with_democracy.xlsx\",index_col=0)\n",
    "df_afrobarometer"
   ]
  },
  {
   "cell_type": "code",
   "execution_count": 6,
   "id": "45353948",
   "metadata": {},
   "outputs": [],
   "source": [
    "#drop redundant row/column\n",
    "df_afrobarometer = df_afrobarometer.drop(index=[\"(N)\"],columns=[\"Total\"])"
   ]
  },
  {
   "cell_type": "code",
   "execution_count": 7,
   "id": "ea841c8e",
   "metadata": {},
   "outputs": [
    {
     "data": {
      "text/html": [
       "<div>\n",
       "<style scoped>\n",
       "    .dataframe tbody tr th:only-of-type {\n",
       "        vertical-align: middle;\n",
       "    }\n",
       "\n",
       "    .dataframe tbody tr th {\n",
       "        vertical-align: top;\n",
       "    }\n",
       "\n",
       "    .dataframe thead th {\n",
       "        text-align: right;\n",
       "    }\n",
       "</style>\n",
       "<table border=\"1\" class=\"dataframe\">\n",
       "  <thead>\n",
       "    <tr style=\"text-align: right;\">\n",
       "      <th></th>\n",
       "      <th>index</th>\n",
       "      <th>The country is not a democracy</th>\n",
       "      <th>Not at all satisfied</th>\n",
       "      <th>Not very satisfied</th>\n",
       "      <th>Fairly satisfied</th>\n",
       "      <th>Very satisfied</th>\n",
       "      <th>Don´t know</th>\n",
       "    </tr>\n",
       "  </thead>\n",
       "  <tbody>\n",
       "    <tr>\n",
       "      <th>0</th>\n",
       "      <td>Benin</td>\n",
       "      <td>0.1</td>\n",
       "      <td>17</td>\n",
       "      <td>30.6</td>\n",
       "      <td>36.2</td>\n",
       "      <td>14.3</td>\n",
       "      <td>1.7</td>\n",
       "    </tr>\n",
       "    <tr>\n",
       "      <th>1</th>\n",
       "      <td>Botswana</td>\n",
       "      <td>0.3</td>\n",
       "      <td>13.8</td>\n",
       "      <td>26.9</td>\n",
       "      <td>39.4</td>\n",
       "      <td>19</td>\n",
       "      <td>0.6</td>\n",
       "    </tr>\n",
       "    <tr>\n",
       "      <th>2</th>\n",
       "      <td>Burkina Faso</td>\n",
       "      <td>0.5</td>\n",
       "      <td>6.9</td>\n",
       "      <td>29.5</td>\n",
       "      <td>44.2</td>\n",
       "      <td>15.4</td>\n",
       "      <td>3.5</td>\n",
       "    </tr>\n",
       "    <tr>\n",
       "      <th>3</th>\n",
       "      <td>Cabo Verde</td>\n",
       "      <td>0.3</td>\n",
       "      <td>27.7</td>\n",
       "      <td>48.4</td>\n",
       "      <td>15.4</td>\n",
       "      <td>6.5</td>\n",
       "      <td>1.7</td>\n",
       "    </tr>\n",
       "    <tr>\n",
       "      <th>4</th>\n",
       "      <td>Cameroon</td>\n",
       "      <td>1.8</td>\n",
       "      <td>30.2</td>\n",
       "      <td>32</td>\n",
       "      <td>21</td>\n",
       "      <td>8</td>\n",
       "      <td>7</td>\n",
       "    </tr>\n",
       "  </tbody>\n",
       "</table>\n",
       "</div>"
      ],
      "text/plain": [
       "           index The country is not a democracy Not at all satisfied  \\\n",
       "0          Benin                            0.1                   17   \n",
       "1       Botswana                            0.3                 13.8   \n",
       "2   Burkina Faso                            0.5                  6.9   \n",
       "3     Cabo Verde                            0.3                 27.7   \n",
       "4       Cameroon                            1.8                 30.2   \n",
       "\n",
       "  Not very satisfied Fairly satisfied Very satisfied Don´t know  \n",
       "0               30.6             36.2           14.3        1.7  \n",
       "1               26.9             39.4             19        0.6  \n",
       "2               29.5             44.2           15.4        3.5  \n",
       "3               48.4             15.4            6.5        1.7  \n",
       "4                 32               21              8          7  "
      ]
     },
     "execution_count": 7,
     "metadata": {},
     "output_type": "execute_result"
    }
   ],
   "source": [
    "df_afrobarometer = df_afrobarometer.T.reset_index()\n",
    "df_afrobarometer.head()"
   ]
  },
  {
   "cell_type": "code",
   "execution_count": 8,
   "id": "d975a650",
   "metadata": {},
   "outputs": [],
   "source": [
    "#strip automatically induced leading space\n",
    "df_afrobarometer['index'] = df_afrobarometer['index'].apply(lambda x: x.strip())"
   ]
  },
  {
   "cell_type": "code",
   "execution_count": 9,
   "id": "12724cc1",
   "metadata": {},
   "outputs": [
    {
     "data": {
      "text/html": [
       "<div>\n",
       "<style scoped>\n",
       "    .dataframe tbody tr th:only-of-type {\n",
       "        vertical-align: middle;\n",
       "    }\n",
       "\n",
       "    .dataframe tbody tr th {\n",
       "        vertical-align: top;\n",
       "    }\n",
       "\n",
       "    .dataframe thead th {\n",
       "        text-align: right;\n",
       "    }\n",
       "</style>\n",
       "<table border=\"1\" class=\"dataframe\">\n",
       "  <thead>\n",
       "    <tr style=\"text-align: right;\">\n",
       "      <th></th>\n",
       "      <th>index</th>\n",
       "      <th>The country is not a democracy</th>\n",
       "      <th>Not at all satisfied</th>\n",
       "      <th>Not very satisfied</th>\n",
       "      <th>Fairly satisfied</th>\n",
       "      <th>Very satisfied</th>\n",
       "      <th>Don´t know</th>\n",
       "    </tr>\n",
       "  </thead>\n",
       "  <tbody>\n",
       "    <tr>\n",
       "      <th>count</th>\n",
       "      <td>34</td>\n",
       "      <td>34.0</td>\n",
       "      <td>34.0</td>\n",
       "      <td>34.0</td>\n",
       "      <td>34.0</td>\n",
       "      <td>34.0</td>\n",
       "      <td>34.0</td>\n",
       "    </tr>\n",
       "    <tr>\n",
       "      <th>unique</th>\n",
       "      <td>34</td>\n",
       "      <td>22.0</td>\n",
       "      <td>34.0</td>\n",
       "      <td>32.0</td>\n",
       "      <td>34.0</td>\n",
       "      <td>33.0</td>\n",
       "      <td>31.0</td>\n",
       "    </tr>\n",
       "    <tr>\n",
       "      <th>top</th>\n",
       "      <td>Benin</td>\n",
       "      <td>1.0</td>\n",
       "      <td>17.0</td>\n",
       "      <td>30.6</td>\n",
       "      <td>36.2</td>\n",
       "      <td>16.9</td>\n",
       "      <td>1.7</td>\n",
       "    </tr>\n",
       "    <tr>\n",
       "      <th>freq</th>\n",
       "      <td>1</td>\n",
       "      <td>6.0</td>\n",
       "      <td>1.0</td>\n",
       "      <td>2.0</td>\n",
       "      <td>1.0</td>\n",
       "      <td>2.0</td>\n",
       "      <td>2.0</td>\n",
       "    </tr>\n",
       "  </tbody>\n",
       "</table>\n",
       "</div>"
      ],
      "text/plain": [
       "        index  The country is not a democracy  Not at all satisfied  \\\n",
       "count      34                            34.0                  34.0   \n",
       "unique     34                            22.0                  34.0   \n",
       "top     Benin                             1.0                  17.0   \n",
       "freq        1                             6.0                   1.0   \n",
       "\n",
       "        Not very satisfied  Fairly satisfied  Very satisfied  Don´t know  \n",
       "count                 34.0              34.0            34.0        34.0  \n",
       "unique                32.0              34.0            33.0        31.0  \n",
       "top                   30.6              36.2            16.9         1.7  \n",
       "freq                   2.0               1.0             2.0         2.0  "
      ]
     },
     "execution_count": 9,
     "metadata": {},
     "output_type": "execute_result"
    }
   ],
   "source": [
    "df_afrobarometer.describe()"
   ]
  },
  {
   "cell_type": "code",
   "execution_count": 10,
   "id": "0b64666f",
   "metadata": {},
   "outputs": [
    {
     "name": "stdout",
     "output_type": "stream",
     "text": [
      "<class 'pandas.core.frame.DataFrame'>\n",
      "RangeIndex: 34 entries, 0 to 33\n",
      "Data columns (total 7 columns):\n",
      " #   Column                          Non-Null Count  Dtype \n",
      "---  ------                          --------------  ----- \n",
      " 0   index                           34 non-null     object\n",
      " 1   The country is not a democracy  34 non-null     object\n",
      " 2   Not at all satisfied            34 non-null     object\n",
      " 3   Not very satisfied              34 non-null     object\n",
      " 4   Fairly satisfied                34 non-null     object\n",
      " 5   Very satisfied                  34 non-null     object\n",
      " 6   Don´t know                      34 non-null     object\n",
      "dtypes: object(7)\n",
      "memory usage: 2.0+ KB\n"
     ]
    }
   ],
   "source": [
    "df_afrobarometer.info()"
   ]
  },
  {
   "cell_type": "code",
   "execution_count": 11,
   "id": "e621ace5",
   "metadata": {},
   "outputs": [
    {
     "data": {
      "text/plain": [
       "Index(['index', 'The country is not a democracy', 'Not at all satisfied',\n",
       "       'Not very satisfied', 'Fairly satisfied', 'Very satisfied',\n",
       "       'Don´t know'],\n",
       "      dtype='object')"
      ]
     },
     "execution_count": 11,
     "metadata": {},
     "output_type": "execute_result"
    }
   ],
   "source": [
    "df_afrobarometer.columns"
   ]
  },
  {
   "cell_type": "code",
   "execution_count": 12,
   "id": "1ddfdc49",
   "metadata": {},
   "outputs": [],
   "source": [
    "df_afrobarometer[['The country is not a democracy',\n",
    "                  'Not at all satisfied',\n",
    "                  'Not very satisfied',\n",
    "                  'Fairly satisfied',\n",
    "                  'Very satisfied',\n",
    "                  'Don´t know']] = df_afrobarometer[['The country is not a democracy',\n",
    "                                                      'Not at all satisfied',\n",
    "                                                      'Not very satisfied',\n",
    "                                                      'Fairly satisfied',\n",
    "                                                      'Very satisfied',\n",
    "                                                      'Don´t know']].astype(float)"
   ]
  },
  {
   "cell_type": "code",
   "execution_count": 13,
   "id": "6aa6a58d",
   "metadata": {},
   "outputs": [
    {
     "data": {
      "text/html": [
       "<div>\n",
       "<style scoped>\n",
       "    .dataframe tbody tr th:only-of-type {\n",
       "        vertical-align: middle;\n",
       "    }\n",
       "\n",
       "    .dataframe tbody tr th {\n",
       "        vertical-align: top;\n",
       "    }\n",
       "\n",
       "    .dataframe thead th {\n",
       "        text-align: right;\n",
       "    }\n",
       "</style>\n",
       "<table border=\"1\" class=\"dataframe\">\n",
       "  <thead>\n",
       "    <tr style=\"text-align: right;\">\n",
       "      <th></th>\n",
       "      <th>index</th>\n",
       "      <th>The country is not a democracy</th>\n",
       "      <th>Not at all satisfied</th>\n",
       "      <th>Not very satisfied</th>\n",
       "      <th>Fairly satisfied</th>\n",
       "      <th>Very satisfied</th>\n",
       "      <th>Don´t know</th>\n",
       "      <th>Country</th>\n",
       "      <th>Continent</th>\n",
       "      <th>Overall score</th>\n",
       "      <th>Rank</th>\n",
       "      <th>I Electoral process and pluralism</th>\n",
       "      <th>II Functioning of government</th>\n",
       "      <th>III Political participation</th>\n",
       "      <th>IV Political culture</th>\n",
       "      <th>V Civil liberties</th>\n",
       "    </tr>\n",
       "  </thead>\n",
       "  <tbody>\n",
       "    <tr>\n",
       "      <th>0</th>\n",
       "      <td>Benin</td>\n",
       "      <td>0.1</td>\n",
       "      <td>17.0</td>\n",
       "      <td>30.6</td>\n",
       "      <td>36.2</td>\n",
       "      <td>14.3</td>\n",
       "      <td>1.7</td>\n",
       "      <td>Benin</td>\n",
       "      <td>Africa</td>\n",
       "      <td>4.58</td>\n",
       "      <td>102</td>\n",
       "      <td>3.33</td>\n",
       "      <td>5.36</td>\n",
       "      <td>3.89</td>\n",
       "      <td>5.63</td>\n",
       "      <td>4.71</td>\n",
       "    </tr>\n",
       "    <tr>\n",
       "      <th>1</th>\n",
       "      <td>Botswana</td>\n",
       "      <td>0.3</td>\n",
       "      <td>13.8</td>\n",
       "      <td>26.9</td>\n",
       "      <td>39.4</td>\n",
       "      <td>19.0</td>\n",
       "      <td>0.6</td>\n",
       "      <td>Botswana</td>\n",
       "      <td>Africa</td>\n",
       "      <td>7.62</td>\n",
       "      <td>33</td>\n",
       "      <td>9.17</td>\n",
       "      <td>6.79</td>\n",
       "      <td>6.11</td>\n",
       "      <td>7.50</td>\n",
       "      <td>8.53</td>\n",
       "    </tr>\n",
       "    <tr>\n",
       "      <th>2</th>\n",
       "      <td>Burkina Faso</td>\n",
       "      <td>0.5</td>\n",
       "      <td>6.9</td>\n",
       "      <td>29.5</td>\n",
       "      <td>44.2</td>\n",
       "      <td>15.4</td>\n",
       "      <td>3.5</td>\n",
       "      <td>Burkina Faso</td>\n",
       "      <td>Africa</td>\n",
       "      <td>3.73</td>\n",
       "      <td>116</td>\n",
       "      <td>3.00</td>\n",
       "      <td>2.36</td>\n",
       "      <td>4.44</td>\n",
       "      <td>5.00</td>\n",
       "      <td>3.82</td>\n",
       "    </tr>\n",
       "    <tr>\n",
       "      <th>3</th>\n",
       "      <td>Cabo Verde</td>\n",
       "      <td>0.3</td>\n",
       "      <td>27.7</td>\n",
       "      <td>48.4</td>\n",
       "      <td>15.4</td>\n",
       "      <td>6.5</td>\n",
       "      <td>1.7</td>\n",
       "      <td>Cabo Verde</td>\n",
       "      <td>Africa</td>\n",
       "      <td>7.65</td>\n",
       "      <td>32</td>\n",
       "      <td>9.17</td>\n",
       "      <td>7.00</td>\n",
       "      <td>6.67</td>\n",
       "      <td>6.88</td>\n",
       "      <td>8.53</td>\n",
       "    </tr>\n",
       "    <tr>\n",
       "      <th>4</th>\n",
       "      <td>Cameroon</td>\n",
       "      <td>1.8</td>\n",
       "      <td>30.2</td>\n",
       "      <td>32.0</td>\n",
       "      <td>21.0</td>\n",
       "      <td>8.0</td>\n",
       "      <td>7.0</td>\n",
       "      <td>Cameroon</td>\n",
       "      <td>Africa</td>\n",
       "      <td>2.77</td>\n",
       "      <td>142</td>\n",
       "      <td>1.67</td>\n",
       "      <td>2.14</td>\n",
       "      <td>3.33</td>\n",
       "      <td>4.38</td>\n",
       "      <td>2.35</td>\n",
       "    </tr>\n",
       "  </tbody>\n",
       "</table>\n",
       "</div>"
      ],
      "text/plain": [
       "          index  The country is not a democracy  Not at all satisfied  \\\n",
       "0         Benin                             0.1                  17.0   \n",
       "1      Botswana                             0.3                  13.8   \n",
       "2  Burkina Faso                             0.5                   6.9   \n",
       "3    Cabo Verde                             0.3                  27.7   \n",
       "4      Cameroon                             1.8                  30.2   \n",
       "\n",
       "   Not very satisfied  Fairly satisfied  Very satisfied  Don´t know  \\\n",
       "0                30.6              36.2            14.3         1.7   \n",
       "1                26.9              39.4            19.0         0.6   \n",
       "2                29.5              44.2            15.4         3.5   \n",
       "3                48.4              15.4             6.5         1.7   \n",
       "4                32.0              21.0             8.0         7.0   \n",
       "\n",
       "        Country Continent  Overall score  Rank  \\\n",
       "0         Benin    Africa           4.58   102   \n",
       "1      Botswana    Africa           7.62    33   \n",
       "2  Burkina Faso    Africa           3.73   116   \n",
       "3    Cabo Verde    Africa           7.65    32   \n",
       "4      Cameroon    Africa           2.77   142   \n",
       "\n",
       "   I Electoral process and pluralism  II Functioning of government  \\\n",
       "0                               3.33                          5.36   \n",
       "1                               9.17                          6.79   \n",
       "2                               3.00                          2.36   \n",
       "3                               9.17                          7.00   \n",
       "4                               1.67                          2.14   \n",
       "\n",
       "   III Political participation  IV Political culture  V Civil liberties  \n",
       "0                         3.89                  5.63               4.71  \n",
       "1                         6.11                  7.50               8.53  \n",
       "2                         4.44                  5.00               3.82  \n",
       "3                         6.67                  6.88               8.53  \n",
       "4                         3.33                  4.38               2.35  "
      ]
     },
     "execution_count": 13,
     "metadata": {},
     "output_type": "execute_result"
    }
   ],
   "source": [
    "#add two dataframes together\n",
    "df = df_afrobarometer.merge(df_economist_2020,left_on=\"index\",right_on=\"Country\")\n",
    "df.head()"
   ]
  },
  {
   "cell_type": "code",
   "execution_count": 14,
   "id": "3522e5ed",
   "metadata": {},
   "outputs": [
    {
     "ename": "AssertionError",
     "evalue": "[33, 34]",
     "output_type": "error",
     "traceback": [
      "\u001b[0;31m---------------------------------------------------------------------------\u001b[0m",
      "\u001b[0;31mAssertionError\u001b[0m                            Traceback (most recent call last)",
      "\u001b[0;32m/var/folders/dw/x3jt2hbs215_s0l14rz0df6h0000gn/T/ipykernel_14260/284925445.py\u001b[0m in \u001b[0;36m<module>\u001b[0;34m\u001b[0m\n\u001b[1;32m      1\u001b[0m \u001b[0;31m#check if both dataframes are same length, to see if any rows were omitted\u001b[0m\u001b[0;34m\u001b[0m\u001b[0;34m\u001b[0m\u001b[0m\n\u001b[0;32m----> 2\u001b[0;31m \u001b[0;32massert\u001b[0m \u001b[0mlen\u001b[0m\u001b[0;34m(\u001b[0m\u001b[0mdf\u001b[0m\u001b[0;34m)\u001b[0m \u001b[0;34m==\u001b[0m \u001b[0mlen\u001b[0m\u001b[0;34m(\u001b[0m\u001b[0mdf_afrobarometer\u001b[0m\u001b[0;34m)\u001b[0m\u001b[0;34m,\u001b[0m \u001b[0;34m[\u001b[0m\u001b[0mlen\u001b[0m\u001b[0;34m(\u001b[0m\u001b[0mdf\u001b[0m\u001b[0;34m)\u001b[0m \u001b[0;34m,\u001b[0m \u001b[0mlen\u001b[0m\u001b[0;34m(\u001b[0m\u001b[0mdf_afrobarometer\u001b[0m\u001b[0;34m)\u001b[0m\u001b[0;34m]\u001b[0m\u001b[0;34m\u001b[0m\u001b[0;34m\u001b[0m\u001b[0m\n\u001b[0m",
      "\u001b[0;31mAssertionError\u001b[0m: [33, 34]"
     ]
    }
   ],
   "source": [
    "#check if both dataframes are same length, to see if any rows were omitted\n",
    "assert len(df) == len(df_afrobarometer), [len(df) , len(df_afrobarometer)]"
   ]
  },
  {
   "cell_type": "code",
   "execution_count": 15,
   "id": "38d8e941",
   "metadata": {},
   "outputs": [
    {
     "data": {
      "text/plain": [
       "['Sao Tome and Principe']"
      ]
     },
     "execution_count": 15,
     "metadata": {},
     "output_type": "execute_result"
    }
   ],
   "source": [
    "#Two countries are missing,lets find them\n",
    "[i for i in df_afrobarometer['index'].values if i not in df['index'].values]"
   ]
  },
  {
   "cell_type": "markdown",
   "id": "06401832",
   "metadata": {},
   "source": [
    "Looks good, we ommit sao tome & principe here as it does not appear in the economist data at all"
   ]
  },
  {
   "cell_type": "markdown",
   "id": "e1a785e9",
   "metadata": {},
   "source": [
    "### Simple exploration"
   ]
  },
  {
   "cell_type": "code",
   "execution_count": 16,
   "id": "d216f225",
   "metadata": {},
   "outputs": [
    {
     "data": {
      "image/png": "[encoded data removed]",
      "text/plain": [
       "<Figure size 720x720 with 1 Axes>"
      ]
     },
     "metadata": {
      "needs_background": "light"
     },
     "output_type": "display_data"
    }
   ],
   "source": [
    "fig = plt.figure(figsize=(10,10))\n",
    "df_economist_cont = df_economist_2020.groupby(\"Continent\").mean().reset_index()\n",
    "ax = plt.bar(df_economist_cont.sort_values(\"Overall score\",ascending=True)[\"Continent\"],df_economist_cont.sort_values(\"Overall score\",ascending=True)[\"Overall score\"])\n",
    "\n",
    "plt.savefig(\"DemStory.svg\")\n",
    "plt.show()\n"
   ]
  },
  {
   "cell_type": "code",
   "execution_count": 17,
   "id": "d4e9b7f8",
   "metadata": {},
   "outputs": [
    {
     "data": {
      "text/html": [
       "<div>\n",
       "<style scoped>\n",
       "    .dataframe tbody tr th:only-of-type {\n",
       "        vertical-align: middle;\n",
       "    }\n",
       "\n",
       "    .dataframe tbody tr th {\n",
       "        vertical-align: top;\n",
       "    }\n",
       "\n",
       "    .dataframe thead th {\n",
       "        text-align: right;\n",
       "    }\n",
       "</style>\n",
       "<table border=\"1\" class=\"dataframe\">\n",
       "  <thead>\n",
       "    <tr style=\"text-align: right;\">\n",
       "      <th></th>\n",
       "      <th>Continent</th>\n",
       "      <th>Overall score</th>\n",
       "      <th>Rank</th>\n",
       "      <th>I Electoral process and pluralism</th>\n",
       "      <th>II Functioning of government</th>\n",
       "      <th>III Political participation</th>\n",
       "      <th>IV Political culture</th>\n",
       "      <th>V Civil liberties</th>\n",
       "    </tr>\n",
       "  </thead>\n",
       "  <tbody>\n",
       "    <tr>\n",
       "      <th>0</th>\n",
       "      <td>Africa</td>\n",
       "      <td>4.116400</td>\n",
       "      <td>110.740000</td>\n",
       "      <td>3.783800</td>\n",
       "      <td>3.044800</td>\n",
       "      <td>4.433000</td>\n",
       "      <td>5.215200</td>\n",
       "      <td>4.111400</td>\n",
       "    </tr>\n",
       "    <tr>\n",
       "      <th>1</th>\n",
       "      <td>Americas</td>\n",
       "      <td>6.283846</td>\n",
       "      <td>64.038462</td>\n",
       "      <td>7.624615</td>\n",
       "      <td>5.410000</td>\n",
       "      <td>6.047308</td>\n",
       "      <td>5.387308</td>\n",
       "      <td>6.956923</td>\n",
       "    </tr>\n",
       "    <tr>\n",
       "      <th>2</th>\n",
       "      <td>Asia</td>\n",
       "      <td>4.412708</td>\n",
       "      <td>104.354167</td>\n",
       "      <td>4.118125</td>\n",
       "      <td>4.238333</td>\n",
       "      <td>4.734583</td>\n",
       "      <td>4.963542</td>\n",
       "      <td>4.013542</td>\n",
       "    </tr>\n",
       "    <tr>\n",
       "      <th>3</th>\n",
       "      <td>Europe</td>\n",
       "      <td>7.325897</td>\n",
       "      <td>42.025641</td>\n",
       "      <td>8.757692</td>\n",
       "      <td>6.565641</td>\n",
       "      <td>6.866154</td>\n",
       "      <td>6.621282</td>\n",
       "      <td>7.820769</td>\n",
       "    </tr>\n",
       "    <tr>\n",
       "      <th>4</th>\n",
       "      <td>Oceania</td>\n",
       "      <td>7.507500</td>\n",
       "      <td>41.500000</td>\n",
       "      <td>8.375000</td>\n",
       "      <td>7.142500</td>\n",
       "      <td>6.527500</td>\n",
       "      <td>7.345000</td>\n",
       "      <td>8.162500</td>\n",
       "    </tr>\n",
       "  </tbody>\n",
       "</table>\n",
       "</div>"
      ],
      "text/plain": [
       "  Continent  Overall score        Rank  I Electoral process and pluralism  \\\n",
       "0    Africa       4.116400  110.740000                           3.783800   \n",
       "1  Americas       6.283846   64.038462                           7.624615   \n",
       "2      Asia       4.412708  104.354167                           4.118125   \n",
       "3    Europe       7.325897   42.025641                           8.757692   \n",
       "4   Oceania       7.507500   41.500000                           8.375000   \n",
       "\n",
       "   II Functioning of government  III Political participation  \\\n",
       "0                      3.044800                     4.433000   \n",
       "1                      5.410000                     6.047308   \n",
       "2                      4.238333                     4.734583   \n",
       "3                      6.565641                     6.866154   \n",
       "4                      7.142500                     6.527500   \n",
       "\n",
       "   IV Political culture  V Civil liberties  \n",
       "0              5.215200           4.111400  \n",
       "1              5.387308           6.956923  \n",
       "2              4.963542           4.013542  \n",
       "3              6.621282           7.820769  \n",
       "4              7.345000           8.162500  "
      ]
     },
     "execution_count": 17,
     "metadata": {},
     "output_type": "execute_result"
    }
   ],
   "source": [
    "df_economist_cont"
   ]
  },
  {
   "cell_type": "code",
   "execution_count": 18,
   "id": "874dc383",
   "metadata": {},
   "outputs": [
    {
     "data": {
      "image/png": "[encoded data removed]",
      "text/plain": [
       "<Figure size 1440x720 with 1 Axes>"
      ]
     },
     "metadata": {
      "needs_background": "light"
     },
     "output_type": "display_data"
    }
   ],
   "source": [
    "#concat satisfied vals together\n",
    "plt.figure(figsize=(20,10))\n",
    "\n",
    "df_satisfied_vals = np.sum([df['Fairly satisfied'],df['Very satisfied']],axis=0)\n",
    "df_overall_score = df[\"Overall score\"]\n",
    "\n",
    "plt.scatter(df_satisfied_vals,df_overall_score)\n",
    "plt.show()"
   ]
  },
  {
   "cell_type": "code",
   "execution_count": 19,
   "id": "4cb7fe19",
   "metadata": {},
   "outputs": [
    {
     "data": {
      "text/html": [
       "<div>\n",
       "<style scoped>\n",
       "    .dataframe tbody tr th:only-of-type {\n",
       "        vertical-align: middle;\n",
       "    }\n",
       "\n",
       "    .dataframe tbody tr th {\n",
       "        vertical-align: top;\n",
       "    }\n",
       "\n",
       "    .dataframe thead th {\n",
       "        text-align: right;\n",
       "    }\n",
       "</style>\n",
       "<table border=\"1\" class=\"dataframe\">\n",
       "  <thead>\n",
       "    <tr style=\"text-align: right;\">\n",
       "      <th></th>\n",
       "      <th>Country Name</th>\n",
       "      <th>2020</th>\n",
       "    </tr>\n",
       "  </thead>\n",
       "  <tbody>\n",
       "    <tr>\n",
       "      <th>0</th>\n",
       "      <td>Aruba</td>\n",
       "      <td>NaN</td>\n",
       "    </tr>\n",
       "    <tr>\n",
       "      <th>1</th>\n",
       "      <td>Africa Eastern and Southern</td>\n",
       "      <td>3548.209824</td>\n",
       "    </tr>\n",
       "    <tr>\n",
       "      <th>2</th>\n",
       "      <td>Afghanistan</td>\n",
       "      <td>2087.636394</td>\n",
       "    </tr>\n",
       "    <tr>\n",
       "      <th>3</th>\n",
       "      <td>Africa Western and Central</td>\n",
       "      <td>4222.992668</td>\n",
       "    </tr>\n",
       "    <tr>\n",
       "      <th>4</th>\n",
       "      <td>Angola</td>\n",
       "      <td>6538.452054</td>\n",
       "    </tr>\n",
       "  </tbody>\n",
       "</table>\n",
       "</div>"
      ],
      "text/plain": [
       "                  Country Name         2020\n",
       "0                        Aruba          NaN\n",
       "1  Africa Eastern and Southern  3548.209824\n",
       "2                  Afghanistan  2087.636394\n",
       "3   Africa Western and Central  4222.992668\n",
       "4                       Angola  6538.452054"
      ]
     },
     "execution_count": 19,
     "metadata": {},
     "output_type": "execute_result"
    }
   ],
   "source": [
    "#resize dots according to gdp p capita\n",
    "df_gdp = pd.read_excel(\"GDPpCapitaWorldBank.xlsx\")\n",
    "df_gdp.head()"
   ]
  },
  {
   "cell_type": "code",
   "execution_count": 20,
   "id": "aa3bd148",
   "metadata": {},
   "outputs": [
    {
     "data": {
      "text/html": [
       "<div>\n",
       "<style scoped>\n",
       "    .dataframe tbody tr th:only-of-type {\n",
       "        vertical-align: middle;\n",
       "    }\n",
       "\n",
       "    .dataframe tbody tr th {\n",
       "        vertical-align: top;\n",
       "    }\n",
       "\n",
       "    .dataframe thead th {\n",
       "        text-align: right;\n",
       "    }\n",
       "</style>\n",
       "<table border=\"1\" class=\"dataframe\">\n",
       "  <thead>\n",
       "    <tr style=\"text-align: right;\">\n",
       "      <th></th>\n",
       "      <th>index</th>\n",
       "      <th>The country is not a democracy</th>\n",
       "      <th>Not at all satisfied</th>\n",
       "      <th>Not very satisfied</th>\n",
       "      <th>Fairly satisfied</th>\n",
       "      <th>Very satisfied</th>\n",
       "      <th>Don´t know</th>\n",
       "      <th>Country</th>\n",
       "      <th>Continent</th>\n",
       "      <th>Overall score</th>\n",
       "      <th>Rank</th>\n",
       "      <th>I Electoral process and pluralism</th>\n",
       "      <th>II Functioning of government</th>\n",
       "      <th>III Political participation</th>\n",
       "      <th>IV Political culture</th>\n",
       "      <th>V Civil liberties</th>\n",
       "      <th>Country Name</th>\n",
       "      <th>2020</th>\n",
       "    </tr>\n",
       "  </thead>\n",
       "  <tbody>\n",
       "    <tr>\n",
       "      <th>0</th>\n",
       "      <td>Benin</td>\n",
       "      <td>0.1</td>\n",
       "      <td>17.0</td>\n",
       "      <td>30.6</td>\n",
       "      <td>36.2</td>\n",
       "      <td>14.3</td>\n",
       "      <td>1.7</td>\n",
       "      <td>Benin</td>\n",
       "      <td>Africa</td>\n",
       "      <td>4.58</td>\n",
       "      <td>102</td>\n",
       "      <td>3.33</td>\n",
       "      <td>5.36</td>\n",
       "      <td>3.89</td>\n",
       "      <td>5.63</td>\n",
       "      <td>4.71</td>\n",
       "      <td>Benin</td>\n",
       "      <td>3505.635164</td>\n",
       "    </tr>\n",
       "    <tr>\n",
       "      <th>1</th>\n",
       "      <td>Botswana</td>\n",
       "      <td>0.3</td>\n",
       "      <td>13.8</td>\n",
       "      <td>26.9</td>\n",
       "      <td>39.4</td>\n",
       "      <td>19.0</td>\n",
       "      <td>0.6</td>\n",
       "      <td>Botswana</td>\n",
       "      <td>Africa</td>\n",
       "      <td>7.62</td>\n",
       "      <td>33</td>\n",
       "      <td>9.17</td>\n",
       "      <td>6.79</td>\n",
       "      <td>6.11</td>\n",
       "      <td>7.50</td>\n",
       "      <td>8.53</td>\n",
       "      <td>Botswana</td>\n",
       "      <td>16920.846675</td>\n",
       "    </tr>\n",
       "    <tr>\n",
       "      <th>2</th>\n",
       "      <td>Burkina Faso</td>\n",
       "      <td>0.5</td>\n",
       "      <td>6.9</td>\n",
       "      <td>29.5</td>\n",
       "      <td>44.2</td>\n",
       "      <td>15.4</td>\n",
       "      <td>3.5</td>\n",
       "      <td>Burkina Faso</td>\n",
       "      <td>Africa</td>\n",
       "      <td>3.73</td>\n",
       "      <td>116</td>\n",
       "      <td>3.00</td>\n",
       "      <td>2.36</td>\n",
       "      <td>4.44</td>\n",
       "      <td>5.00</td>\n",
       "      <td>3.82</td>\n",
       "      <td>Burkina Faso</td>\n",
       "      <td>2279.156173</td>\n",
       "    </tr>\n",
       "    <tr>\n",
       "      <th>3</th>\n",
       "      <td>Cabo Verde</td>\n",
       "      <td>0.3</td>\n",
       "      <td>27.7</td>\n",
       "      <td>48.4</td>\n",
       "      <td>15.4</td>\n",
       "      <td>6.5</td>\n",
       "      <td>1.7</td>\n",
       "      <td>Cabo Verde</td>\n",
       "      <td>Africa</td>\n",
       "      <td>7.65</td>\n",
       "      <td>32</td>\n",
       "      <td>9.17</td>\n",
       "      <td>7.00</td>\n",
       "      <td>6.67</td>\n",
       "      <td>6.88</td>\n",
       "      <td>8.53</td>\n",
       "      <td>Cabo Verde</td>\n",
       "      <td>6377.025832</td>\n",
       "    </tr>\n",
       "    <tr>\n",
       "      <th>4</th>\n",
       "      <td>Cameroon</td>\n",
       "      <td>1.8</td>\n",
       "      <td>30.2</td>\n",
       "      <td>32.0</td>\n",
       "      <td>21.0</td>\n",
       "      <td>8.0</td>\n",
       "      <td>7.0</td>\n",
       "      <td>Cameroon</td>\n",
       "      <td>Africa</td>\n",
       "      <td>2.77</td>\n",
       "      <td>142</td>\n",
       "      <td>1.67</td>\n",
       "      <td>2.14</td>\n",
       "      <td>3.33</td>\n",
       "      <td>4.38</td>\n",
       "      <td>2.35</td>\n",
       "      <td>Cameroon</td>\n",
       "      <td>3772.744986</td>\n",
       "    </tr>\n",
       "  </tbody>\n",
       "</table>\n",
       "</div>"
      ],
      "text/plain": [
       "          index  The country is not a democracy  Not at all satisfied  \\\n",
       "0         Benin                             0.1                  17.0   \n",
       "1      Botswana                             0.3                  13.8   \n",
       "2  Burkina Faso                             0.5                   6.9   \n",
       "3    Cabo Verde                             0.3                  27.7   \n",
       "4      Cameroon                             1.8                  30.2   \n",
       "\n",
       "   Not very satisfied  Fairly satisfied  Very satisfied  Don´t know  \\\n",
       "0                30.6              36.2            14.3         1.7   \n",
       "1                26.9              39.4            19.0         0.6   \n",
       "2                29.5              44.2            15.4         3.5   \n",
       "3                48.4              15.4             6.5         1.7   \n",
       "4                32.0              21.0             8.0         7.0   \n",
       "\n",
       "        Country Continent  Overall score  Rank  \\\n",
       "0         Benin    Africa           4.58   102   \n",
       "1      Botswana    Africa           7.62    33   \n",
       "2  Burkina Faso    Africa           3.73   116   \n",
       "3    Cabo Verde    Africa           7.65    32   \n",
       "4      Cameroon    Africa           2.77   142   \n",
       "\n",
       "   I Electoral process and pluralism  II Functioning of government  \\\n",
       "0                               3.33                          5.36   \n",
       "1                               9.17                          6.79   \n",
       "2                               3.00                          2.36   \n",
       "3                               9.17                          7.00   \n",
       "4                               1.67                          2.14   \n",
       "\n",
       "   III Political participation  IV Political culture  V Civil liberties  \\\n",
       "0                         3.89                  5.63               4.71   \n",
       "1                         6.11                  7.50               8.53   \n",
       "2                         4.44                  5.00               3.82   \n",
       "3                         6.67                  6.88               8.53   \n",
       "4                         3.33                  4.38               2.35   \n",
       "\n",
       "   Country Name          2020  \n",
       "0         Benin   3505.635164  \n",
       "1      Botswana  16920.846675  \n",
       "2  Burkina Faso   2279.156173  \n",
       "3    Cabo Verde   6377.025832  \n",
       "4      Cameroon   3772.744986  "
      ]
     },
     "execution_count": 20,
     "metadata": {},
     "output_type": "execute_result"
    }
   ],
   "source": [
    "df = df.merge(df_gdp,left_on = \"index\",right_on = \"Country Name\")\n",
    "df.head()"
   ]
  },
  {
   "cell_type": "code",
   "execution_count": 21,
   "id": "cef26f1d",
   "metadata": {},
   "outputs": [
    {
     "data": {
      "text/plain": [
       "33"
      ]
     },
     "execution_count": 21,
     "metadata": {},
     "output_type": "execute_result"
    }
   ],
   "source": [
    "#check if still len 33\n",
    "len(df)"
   ]
  },
  {
   "cell_type": "code",
   "execution_count": 22,
   "id": "8beb92ba",
   "metadata": {},
   "outputs": [
    {
     "data": {
      "image/png": "[encoded data removed]",
      "text/plain": [
       "<Figure size 1440x720 with 1 Axes>"
      ]
     },
     "metadata": {
      "needs_background": "light"
     },
     "output_type": "display_data"
    }
   ],
   "source": [
    "#concat satisfied vals together\n",
    "plt.figure(figsize=(20,10))\n",
    "\n",
    "df_satisfied_vals = np.sum([df['Fairly satisfied'],df['Very satisfied']],axis=0)\n",
    "df_overall_score = df[\"Overall score\"]\n",
    "df_gdp_cap = df[2020]\n",
    "\n",
    "plt.scatter(df_satisfied_vals,df_overall_score,s=df_gdp_cap/10)\n",
    "\n",
    "plt.xlabel(\"Satisfied with democracy\")\n",
    "plt.ylabel(\"Overall EIU Score\")\n",
    "plt.title(\"How overall satisfaction can predict the actual democratic score \")\n",
    "\n",
    "plt.savefig(\"Scattereg.svg\")\n",
    "\n",
    "plt.show()"
   ]
  },
  {
   "cell_type": "code",
   "execution_count": 23,
   "id": "02995f6e",
   "metadata": {},
   "outputs": [
    {
     "data": {
      "text/html": [
       "<div>\n",
       "<style scoped>\n",
       "    .dataframe tbody tr th:only-of-type {\n",
       "        vertical-align: middle;\n",
       "    }\n",
       "\n",
       "    .dataframe tbody tr th {\n",
       "        vertical-align: top;\n",
       "    }\n",
       "\n",
       "    .dataframe thead th {\n",
       "        text-align: right;\n",
       "    }\n",
       "</style>\n",
       "<table border=\"1\" class=\"dataframe\">\n",
       "  <thead>\n",
       "    <tr style=\"text-align: right;\">\n",
       "      <th></th>\n",
       "      <th>index</th>\n",
       "      <th>The country is not a democracy</th>\n",
       "      <th>Not at all satisfied</th>\n",
       "      <th>Not very satisfied</th>\n",
       "      <th>Fairly satisfied</th>\n",
       "      <th>Very satisfied</th>\n",
       "      <th>Don´t know</th>\n",
       "      <th>Country</th>\n",
       "      <th>Continent</th>\n",
       "      <th>Overall score</th>\n",
       "      <th>Rank</th>\n",
       "      <th>I Electoral process and pluralism</th>\n",
       "      <th>II Functioning of government</th>\n",
       "      <th>III Political participation</th>\n",
       "      <th>IV Political culture</th>\n",
       "      <th>V Civil liberties</th>\n",
       "      <th>Country Name</th>\n",
       "      <th>2020</th>\n",
       "    </tr>\n",
       "  </thead>\n",
       "  <tbody>\n",
       "    <tr>\n",
       "      <th>17</th>\n",
       "      <td>Mauritius</td>\n",
       "      <td>0.2</td>\n",
       "      <td>13.7</td>\n",
       "      <td>30.7</td>\n",
       "      <td>39.1</td>\n",
       "      <td>12.5</td>\n",
       "      <td>3.7</td>\n",
       "      <td>Mauritius</td>\n",
       "      <td>Africa</td>\n",
       "      <td>8.14</td>\n",
       "      <td>20</td>\n",
       "      <td>9.17</td>\n",
       "      <td>7.86</td>\n",
       "      <td>6.11</td>\n",
       "      <td>8.75</td>\n",
       "      <td>8.82</td>\n",
       "      <td>Mauritius</td>\n",
       "      <td>20538.69491</td>\n",
       "    </tr>\n",
       "  </tbody>\n",
       "</table>\n",
       "</div>"
      ],
      "text/plain": [
       "        index  The country is not a democracy  Not at all satisfied  \\\n",
       "17  Mauritius                             0.2                  13.7   \n",
       "\n",
       "    Not very satisfied  Fairly satisfied  Very satisfied  Don´t know  \\\n",
       "17                30.7              39.1            12.5         3.7   \n",
       "\n",
       "      Country Continent  Overall score  Rank  \\\n",
       "17  Mauritius    Africa           8.14    20   \n",
       "\n",
       "    I Electoral process and pluralism  II Functioning of government  \\\n",
       "17                               9.17                          7.86   \n",
       "\n",
       "    III Political participation  IV Political culture  V Civil liberties  \\\n",
       "17                         6.11                  8.75               8.82   \n",
       "\n",
       "   Country Name         2020  \n",
       "17    Mauritius  20538.69491  "
      ]
     },
     "execution_count": 23,
     "metadata": {},
     "output_type": "execute_result"
    }
   ],
   "source": [
    "df[df[\"Overall score\"] > 8]"
   ]
  },
  {
   "cell_type": "markdown",
   "id": "484da2fb",
   "metadata": {},
   "source": [
    "### Import second Economist dataset from EIU about democracy in 2010, compare to data from 2020"
   ]
  },
  {
   "cell_type": "code",
   "execution_count": 24,
   "id": "2dd1cf3e",
   "metadata": {},
   "outputs": [
    {
     "data": {
      "text/html": [
       "<div>\n",
       "<style scoped>\n",
       "    .dataframe tbody tr th:only-of-type {\n",
       "        vertical-align: middle;\n",
       "    }\n",
       "\n",
       "    .dataframe tbody tr th {\n",
       "        vertical-align: top;\n",
       "    }\n",
       "\n",
       "    .dataframe thead th {\n",
       "        text-align: right;\n",
       "    }\n",
       "</style>\n",
       "<table border=\"1\" class=\"dataframe\">\n",
       "  <thead>\n",
       "    <tr style=\"text-align: right;\">\n",
       "      <th></th>\n",
       "      <th>Country</th>\n",
       "      <th>Continent</th>\n",
       "      <th>Rank</th>\n",
       "      <th>Overall score</th>\n",
       "      <th>I Electoral process and pluralism</th>\n",
       "      <th>II Functioning of government</th>\n",
       "      <th>III Political participation</th>\n",
       "      <th>IV Political culture</th>\n",
       "      <th>V Civil liberties</th>\n",
       "    </tr>\n",
       "  </thead>\n",
       "  <tbody>\n",
       "    <tr>\n",
       "      <th>0</th>\n",
       "      <td>Norway</td>\n",
       "      <td>Europe</td>\n",
       "      <td>1</td>\n",
       "      <td>9.80</td>\n",
       "      <td>10.00</td>\n",
       "      <td>9.64</td>\n",
       "      <td>10.00</td>\n",
       "      <td>9.38</td>\n",
       "      <td>10.00</td>\n",
       "    </tr>\n",
       "    <tr>\n",
       "      <th>1</th>\n",
       "      <td>Iceland</td>\n",
       "      <td>Europe</td>\n",
       "      <td>2</td>\n",
       "      <td>9.65</td>\n",
       "      <td>10.00</td>\n",
       "      <td>9.64</td>\n",
       "      <td>8.89</td>\n",
       "      <td>10.00</td>\n",
       "      <td>9.71</td>\n",
       "    </tr>\n",
       "    <tr>\n",
       "      <th>2</th>\n",
       "      <td>Denmark</td>\n",
       "      <td>Europe</td>\n",
       "      <td>3</td>\n",
       "      <td>9.52</td>\n",
       "      <td>10.00</td>\n",
       "      <td>9.64</td>\n",
       "      <td>8.89</td>\n",
       "      <td>9.38</td>\n",
       "      <td>9.71</td>\n",
       "    </tr>\n",
       "    <tr>\n",
       "      <th>3</th>\n",
       "      <td>Sweden</td>\n",
       "      <td>Europe</td>\n",
       "      <td>4</td>\n",
       "      <td>9.50</td>\n",
       "      <td>9.58</td>\n",
       "      <td>9.64</td>\n",
       "      <td>8.89</td>\n",
       "      <td>9.38</td>\n",
       "      <td>10.00</td>\n",
       "    </tr>\n",
       "    <tr>\n",
       "      <th>4</th>\n",
       "      <td>New Zealand</td>\n",
       "      <td>Oceania</td>\n",
       "      <td>5</td>\n",
       "      <td>9.26</td>\n",
       "      <td>10.00</td>\n",
       "      <td>9.29</td>\n",
       "      <td>8.89</td>\n",
       "      <td>8.13</td>\n",
       "      <td>10.00</td>\n",
       "    </tr>\n",
       "  </tbody>\n",
       "</table>\n",
       "</div>"
      ],
      "text/plain": [
       "       Country Continent  Rank  Overall score  \\\n",
       "0       Norway    Europe     1           9.80   \n",
       "1      Iceland    Europe     2           9.65   \n",
       "2      Denmark    Europe     3           9.52   \n",
       "3       Sweden    Europe     4           9.50   \n",
       "4  New Zealand   Oceania     5           9.26   \n",
       "\n",
       "   I Electoral process and pluralism  II Functioning of government  \\\n",
       "0                              10.00                          9.64   \n",
       "1                              10.00                          9.64   \n",
       "2                              10.00                          9.64   \n",
       "3                               9.58                          9.64   \n",
       "4                              10.00                          9.29   \n",
       "\n",
       "   III Political participation  IV Political culture  V Civil liberties  \n",
       "0                        10.00                  9.38              10.00  \n",
       "1                         8.89                 10.00               9.71  \n",
       "2                         8.89                  9.38               9.71  \n",
       "3                         8.89                  9.38              10.00  \n",
       "4                         8.89                  8.13              10.00  "
      ]
     },
     "execution_count": 24,
     "metadata": {},
     "output_type": "execute_result"
    }
   ],
   "source": [
    "df_economist_2010 = pd.read_excel(\"EIUData.xlsx\",sheet_name=\"2010\")\n",
    "df_economist_2010.head()"
   ]
  },
  {
   "cell_type": "code",
   "execution_count": 25,
   "id": "08fb8376",
   "metadata": {},
   "outputs": [
    {
     "name": "stdout",
     "output_type": "stream",
     "text": [
      "<class 'pandas.core.frame.DataFrame'>\n",
      "RangeIndex: 167 entries, 0 to 166\n",
      "Data columns (total 9 columns):\n",
      " #   Column                             Non-Null Count  Dtype  \n",
      "---  ------                             --------------  -----  \n",
      " 0   Country                            167 non-null    object \n",
      " 1   Continent                          167 non-null    object \n",
      " 2   Rank                               167 non-null    int64  \n",
      " 3   Overall score                      167 non-null    float64\n",
      " 4   I Electoral process and pluralism  167 non-null    float64\n",
      " 5   II Functioning of government       167 non-null    float64\n",
      " 6   III Political participation        167 non-null    float64\n",
      " 7   IV Political culture               167 non-null    float64\n",
      " 8   V Civil liberties                  167 non-null    float64\n",
      "dtypes: float64(6), int64(1), object(2)\n",
      "memory usage: 11.9+ KB\n"
     ]
    }
   ],
   "source": [
    "df_economist_2010.info()"
   ]
  },
  {
   "cell_type": "code",
   "execution_count": 26,
   "id": "1db109c0",
   "metadata": {},
   "outputs": [
    {
     "data": {
      "text/html": [
       "<div>\n",
       "<style scoped>\n",
       "    .dataframe tbody tr th:only-of-type {\n",
       "        vertical-align: middle;\n",
       "    }\n",
       "\n",
       "    .dataframe tbody tr th {\n",
       "        vertical-align: top;\n",
       "    }\n",
       "\n",
       "    .dataframe thead th {\n",
       "        text-align: right;\n",
       "    }\n",
       "</style>\n",
       "<table border=\"1\" class=\"dataframe\">\n",
       "  <thead>\n",
       "    <tr style=\"text-align: right;\">\n",
       "      <th></th>\n",
       "      <th>Country</th>\n",
       "      <th>2010 Score</th>\n",
       "      <th>2020 Score</th>\n",
       "    </tr>\n",
       "  </thead>\n",
       "  <tbody>\n",
       "    <tr>\n",
       "      <th>0</th>\n",
       "      <td>Mauritius</td>\n",
       "      <td>8.04</td>\n",
       "      <td>8.14</td>\n",
       "    </tr>\n",
       "    <tr>\n",
       "      <th>1</th>\n",
       "      <td>Cabo Verde</td>\n",
       "      <td>7.94</td>\n",
       "      <td>7.65</td>\n",
       "    </tr>\n",
       "    <tr>\n",
       "      <th>2</th>\n",
       "      <td>South Africa</td>\n",
       "      <td>7.79</td>\n",
       "      <td>7.05</td>\n",
       "    </tr>\n",
       "    <tr>\n",
       "      <th>3</th>\n",
       "      <td>Botswana</td>\n",
       "      <td>7.63</td>\n",
       "      <td>7.62</td>\n",
       "    </tr>\n",
       "    <tr>\n",
       "      <th>4</th>\n",
       "      <td>Namibia</td>\n",
       "      <td>6.23</td>\n",
       "      <td>6.52</td>\n",
       "    </tr>\n",
       "  </tbody>\n",
       "</table>\n",
       "</div>"
      ],
      "text/plain": [
       "        Country  2010 Score  2020 Score\n",
       "0     Mauritius        8.04        8.14\n",
       "1    Cabo Verde        7.94        7.65\n",
       "2  South Africa        7.79        7.05\n",
       "3      Botswana        7.63        7.62\n",
       "4       Namibia        6.23        6.52"
      ]
     },
     "execution_count": 26,
     "metadata": {},
     "output_type": "execute_result"
    }
   ],
   "source": [
    "df_economist_vals2010 = df_economist_2010[df_economist_2010.Continent==\"Africa\"][[\"Country\",\"Overall score\"]]\n",
    "df_economist_vals2020 = df_economist_2020[df_economist_2020.Continent==\"Africa\"][[\"Country\",\"Overall score\"]]\n",
    "\n",
    "df_economist_diff = df_economist_vals2010.merge(df_economist_vals2020,on=\"Country\")\n",
    "df_economist_diff = df_economist_diff.rename(columns={\"Overall score_x\":\"2010 Score\",\"Overall score_y\":\"2020 Score\"})\n",
    "df_economist_diff.head()"
   ]
  },
  {
   "cell_type": "code",
   "execution_count": 27,
   "id": "76f21253",
   "metadata": {},
   "outputs": [
    {
     "data": {
      "text/html": [
       "<div>\n",
       "<style scoped>\n",
       "    .dataframe tbody tr th:only-of-type {\n",
       "        vertical-align: middle;\n",
       "    }\n",
       "\n",
       "    .dataframe tbody tr th {\n",
       "        vertical-align: top;\n",
       "    }\n",
       "\n",
       "    .dataframe thead th {\n",
       "        text-align: right;\n",
       "    }\n",
       "</style>\n",
       "<table border=\"1\" class=\"dataframe\">\n",
       "  <thead>\n",
       "    <tr style=\"text-align: right;\">\n",
       "      <th></th>\n",
       "      <th>Country</th>\n",
       "      <th>2010 Score</th>\n",
       "      <th>2020 Score</th>\n",
       "      <th>Difference</th>\n",
       "    </tr>\n",
       "  </thead>\n",
       "  <tbody>\n",
       "    <tr>\n",
       "      <th>0</th>\n",
       "      <td>Mauritius</td>\n",
       "      <td>8.04</td>\n",
       "      <td>8.14</td>\n",
       "      <td>0.10</td>\n",
       "    </tr>\n",
       "    <tr>\n",
       "      <th>1</th>\n",
       "      <td>Cabo Verde</td>\n",
       "      <td>7.94</td>\n",
       "      <td>7.65</td>\n",
       "      <td>-0.29</td>\n",
       "    </tr>\n",
       "    <tr>\n",
       "      <th>2</th>\n",
       "      <td>South Africa</td>\n",
       "      <td>7.79</td>\n",
       "      <td>7.05</td>\n",
       "      <td>-0.74</td>\n",
       "    </tr>\n",
       "    <tr>\n",
       "      <th>3</th>\n",
       "      <td>Botswana</td>\n",
       "      <td>7.63</td>\n",
       "      <td>7.62</td>\n",
       "      <td>-0.01</td>\n",
       "    </tr>\n",
       "    <tr>\n",
       "      <th>4</th>\n",
       "      <td>Namibia</td>\n",
       "      <td>6.23</td>\n",
       "      <td>6.52</td>\n",
       "      <td>0.29</td>\n",
       "    </tr>\n",
       "  </tbody>\n",
       "</table>\n",
       "</div>"
      ],
      "text/plain": [
       "        Country  2010 Score  2020 Score  Difference\n",
       "0     Mauritius        8.04        8.14        0.10\n",
       "1    Cabo Verde        7.94        7.65       -0.29\n",
       "2  South Africa        7.79        7.05       -0.74\n",
       "3      Botswana        7.63        7.62       -0.01\n",
       "4       Namibia        6.23        6.52        0.29"
      ]
     },
     "execution_count": 27,
     "metadata": {},
     "output_type": "execute_result"
    }
   ],
   "source": [
    "#calculate difference column\n",
    "df_economist_diff[\"Difference\"] = df_economist_diff[\"2020 Score\"] - df_economist_diff[\"2010 Score\"]\n",
    "df_economist_diff.head()"
   ]
  },
  {
   "cell_type": "markdown",
   "id": "fd26fef5",
   "metadata": {},
   "source": [
    "Now plot values on map"
   ]
  },
  {
   "cell_type": "code",
   "execution_count": 28,
   "id": "029690ba",
   "metadata": {},
   "outputs": [],
   "source": [
    "import geopandas\n",
    "\n",
    "import cartopy.crs as ccrs\n",
    "import cartopy.feature as cfeature\n",
    "import cartopy.io.img_tiles as cimgt\n",
    "from cartopy.io import shapereader\n",
    "from cartopy.feature import ShapelyFeature"
   ]
  },
  {
   "cell_type": "code",
   "execution_count": 30,
   "id": "ec0dd313",
   "metadata": {},
   "outputs": [
    {
     "data": {
      "text/html": [
       "<div>\n",
       "<style scoped>\n",
       "    .dataframe tbody tr th:only-of-type {\n",
       "        vertical-align: middle;\n",
       "    }\n",
       "\n",
       "    .dataframe tbody tr th {\n",
       "        vertical-align: top;\n",
       "    }\n",
       "\n",
       "    .dataframe thead th {\n",
       "        text-align: right;\n",
       "    }\n",
       "</style>\n",
       "<table border=\"1\" class=\"dataframe\">\n",
       "  <thead>\n",
       "    <tr style=\"text-align: right;\">\n",
       "      <th></th>\n",
       "      <th>sovereignt</th>\n",
       "      <th>iso_a3</th>\n",
       "      <th>geometry</th>\n",
       "    </tr>\n",
       "  </thead>\n",
       "  <tbody>\n",
       "    <tr>\n",
       "      <th>0</th>\n",
       "      <td>Netherlands</td>\n",
       "      <td>ABW</td>\n",
       "      <td>POLYGON ((-69.99694 12.57758, -69.93639 12.531...</td>\n",
       "    </tr>\n",
       "    <tr>\n",
       "      <th>1</th>\n",
       "      <td>Antigua and Barbuda</td>\n",
       "      <td>ATG</td>\n",
       "      <td>MULTIPOLYGON (((-61.77302 17.12653, -61.75642 ...</td>\n",
       "    </tr>\n",
       "    <tr>\n",
       "      <th>2</th>\n",
       "      <td>United Kingdom</td>\n",
       "      <td>AIA</td>\n",
       "      <td>MULTIPOLYGON (((-63.03767 18.21296, -63.09952 ...</td>\n",
       "    </tr>\n",
       "    <tr>\n",
       "      <th>3</th>\n",
       "      <td>France</td>\n",
       "      <td>BLM</td>\n",
       "      <td>POLYGON ((-62.83886 17.88198, -62.85094 17.890...</td>\n",
       "    </tr>\n",
       "    <tr>\n",
       "      <th>4</th>\n",
       "      <td>Belize</td>\n",
       "      <td>BLZ</td>\n",
       "      <td>MULTIPOLYGON (((-87.80370 17.31599, -87.80358 ...</td>\n",
       "    </tr>\n",
       "  </tbody>\n",
       "</table>\n",
       "</div>"
      ],
      "text/plain": [
       "            sovereignt iso_a3  \\\n",
       "0          Netherlands    ABW   \n",
       "1  Antigua and Barbuda    ATG   \n",
       "2       United Kingdom    AIA   \n",
       "3               France    BLM   \n",
       "4               Belize    BLZ   \n",
       "\n",
       "                                            geometry  \n",
       "0  POLYGON ((-69.99694 12.57758, -69.93639 12.531...  \n",
       "1  MULTIPOLYGON (((-61.77302 17.12653, -61.75642 ...  \n",
       "2  MULTIPOLYGON (((-63.03767 18.21296, -63.09952 ...  \n",
       "3  POLYGON ((-62.83886 17.88198, -62.85094 17.890...  \n",
       "4  MULTIPOLYGON (((-87.80370 17.31599, -87.80358 ...  "
      ]
     },
     "execution_count": 30,
     "metadata": {},
     "output_type": "execute_result"
    }
   ],
   "source": [
    "#read geodata\n",
    "geo_df = geopandas.read_file(\"custom.geo.json\")\n",
    "geo_df = geo_df.drop(['scalerank', 'featurecla', 'labelrank', 'sov_a3',\n",
    "       'adm0_dif', 'level', 'type', 'admin', 'geou_dif', 'geounit',\n",
    "       'gu_a3', 'su_dif', 'subunit', 'su_a3', 'brk_diff', 'name', 'name_long',\n",
    "       'brk_a3', 'brk_name', 'brk_group', 'abbrev', 'postal', 'formal_en',\n",
    "       'formal_fr', 'note_adm0', 'note_brk', 'name_sort', 'name_alt',\n",
    "       'mapcolor7', 'mapcolor8', 'mapcolor9', 'mapcolor13', 'pop_est',\n",
    "       'gdp_md_est', 'pop_year', 'lastcensus', 'gdp_year', 'economy',\n",
    "       'income_grp', 'wikipedia', 'iso_a2','adm0_a3', 'iso_n3', 'wb_a3',\n",
    "       'un_a3', 'wb_a2', 'woe_id', 'adm0_a3_is', 'adm0_a3_us', 'woe_id_eh',\n",
    "       'adm0_a3_un', 'adm0_a3_wb', 'continent', 'region_un', 'subregion',\n",
    "       'region_wb', 'name_len', 'long_len', 'abbrev_len', 'tiny', 'homepart',\n",
    "       'filename','fips_10_', 'woe_note'],axis=1)\n",
    "geo_df.head()"
   ]
  },
  {
   "cell_type": "code",
   "execution_count": 31,
   "id": "bf68e8d9",
   "metadata": {},
   "outputs": [
    {
     "name": "stdout",
     "output_type": "stream",
     "text": [
      "['Mauritius', 'Cabo Verde', 'Tanzania', 'Côte d´Ivoire', 'eSwatini', 'Congo (Brazzaville)', 'Democratic Republic of Congo']\n"
     ]
    }
   ],
   "source": [
    "#Merge \"df_economist_diff\" and shapefile together\n",
    "test_merge = geo_df.merge(df_economist_diff,left_on=\"sovereignt\",right_on=\"Country\")\n",
    "#check which countries were omitted\n",
    "print ([i for i in df_economist_diff.Country.unique() if i not in test_merge.sovereignt.unique()])"
   ]
  },
  {
   "cell_type": "code",
   "execution_count": 32,
   "id": "c5646919",
   "metadata": {},
   "outputs": [
    {
     "data": {
      "text/html": [
       "<div>\n",
       "<style scoped>\n",
       "    .dataframe tbody tr th:only-of-type {\n",
       "        vertical-align: middle;\n",
       "    }\n",
       "\n",
       "    .dataframe tbody tr th {\n",
       "        vertical-align: top;\n",
       "    }\n",
       "\n",
       "    .dataframe thead th {\n",
       "        text-align: right;\n",
       "    }\n",
       "</style>\n",
       "<table border=\"1\" class=\"dataframe\">\n",
       "  <thead>\n",
       "    <tr style=\"text-align: right;\">\n",
       "      <th></th>\n",
       "      <th>sovereignt</th>\n",
       "      <th>iso_a3</th>\n",
       "      <th>geometry</th>\n",
       "    </tr>\n",
       "  </thead>\n",
       "  <tbody>\n",
       "    <tr>\n",
       "      <th>120</th>\n",
       "      <td>Ivory Coast</td>\n",
       "      <td>CIV</td>\n",
       "      <td>MULTIPOLYGON (((-3.18497 5.13227, -3.16340 5.1...</td>\n",
       "    </tr>\n",
       "    <tr>\n",
       "      <th>122</th>\n",
       "      <td>Democratic Republic of the Congo</td>\n",
       "      <td>COD</td>\n",
       "      <td>MULTIPOLYGON (((12.99459 -5.86824, 12.96930 -5...</td>\n",
       "    </tr>\n",
       "    <tr>\n",
       "      <th>123</th>\n",
       "      <td>Republic of Congo</td>\n",
       "      <td>COG</td>\n",
       "      <td>POLYGON ((17.62728 3.62632, 17.70913 3.62642, ...</td>\n",
       "    </tr>\n",
       "    <tr>\n",
       "      <th>124</th>\n",
       "      <td>Cape Verde</td>\n",
       "      <td>CPV</td>\n",
       "      <td>MULTIPOLYGON (((-24.68326 14.84247, -24.68688 ...</td>\n",
       "    </tr>\n",
       "    <tr>\n",
       "      <th>162</th>\n",
       "      <td>Swaziland</td>\n",
       "      <td>SWZ</td>\n",
       "      <td>POLYGON ((31.86336 -25.98994, 31.89188 -25.983...</td>\n",
       "    </tr>\n",
       "    <tr>\n",
       "      <th>163</th>\n",
       "      <td>United Republic of Tanzania</td>\n",
       "      <td>TZA</td>\n",
       "      <td>MULTIPOLYGON (((39.74916 -8.06549, 39.71944 -8...</td>\n",
       "    </tr>\n",
       "  </tbody>\n",
       "</table>\n",
       "</div>"
      ],
      "text/plain": [
       "                           sovereignt iso_a3  \\\n",
       "120                       Ivory Coast    CIV   \n",
       "122  Democratic Republic of the Congo    COD   \n",
       "123                 Republic of Congo    COG   \n",
       "124                        Cape Verde    CPV   \n",
       "162                         Swaziland    SWZ   \n",
       "163       United Republic of Tanzania    TZA   \n",
       "\n",
       "                                              geometry  \n",
       "120  MULTIPOLYGON (((-3.18497 5.13227, -3.16340 5.1...  \n",
       "122  MULTIPOLYGON (((12.99459 -5.86824, 12.96930 -5...  \n",
       "123  POLYGON ((17.62728 3.62632, 17.70913 3.62642, ...  \n",
       "124  MULTIPOLYGON (((-24.68326 14.84247, -24.68688 ...  \n",
       "162  POLYGON ((31.86336 -25.98994, 31.89188 -25.983...  \n",
       "163  MULTIPOLYGON (((39.74916 -8.06549, 39.71944 -8...  "
      ]
     },
     "execution_count": 32,
     "metadata": {},
     "output_type": "execute_result"
    }
   ],
   "source": [
    "#get alpha 3vals of these countries\n",
    "#'Mauritius':MUS\n",
    "#'Cabo Verde':CPV\n",
    "#'Tanzania':TZA\n",
    "#'Côte d´Ivoire':CIV\n",
    "#'eSwatini':SWZ\n",
    "#'Congo (Brazzaville)':COG\n",
    "#'Democratic Republic of Congo':COD\n",
    "#\n",
    "#Try to rename concat these to test_merge\n",
    "geo_df[geo_df.iso_a3.isin(['MUS', 'CPV', 'TZA', 'CIV', 'SWZ', 'COG', 'COD'])]"
   ]
  },
  {
   "cell_type": "code",
   "execution_count": 33,
   "id": "f7a469c5",
   "metadata": {},
   "outputs": [],
   "source": [
    "#still can find Mauritius, lets just ignore this for now.\n",
    "#reassign names of \"df_economist_diff\"\n",
    "missing_names = ['Cabo Verde',\n",
    "                 'Tanzania',\n",
    "                 'Côte d´Ivoire',\n",
    "                 'eSwatini',\n",
    "                 'Congo (Brazzaville)',\n",
    "                 'Democratic Republic of Congo']\n",
    "#rename country names\n",
    "df_economist_diff.loc[df_economist_diff.Country.isin([missing_names[0]]), \"Country\"] = \"Cape Verde\"\n",
    "df_economist_diff.loc[df_economist_diff.Country.isin([missing_names[1]]), \"Country\"] = \"United Republic of Tanzania\"\n",
    "df_economist_diff.loc[df_economist_diff.Country.isin([missing_names[2]]), \"Country\"] = \"Ivory Coast\"\n",
    "df_economist_diff.loc[df_economist_diff.Country.isin([missing_names[3]]), \"Country\"] = \"Swaziland\"\n",
    "df_economist_diff.loc[df_economist_diff.Country.isin([missing_names[4]]), \"Country\"] = \"Republic of Congo\"\n",
    "df_economist_diff.loc[df_economist_diff.Country.isin([missing_names[5]]), \"Country\"] = \"Democratic Republic of the Congo\""
   ]
  },
  {
   "cell_type": "code",
   "execution_count": 34,
   "id": "7b02b2bb",
   "metadata": {},
   "outputs": [
    {
     "data": {
      "text/html": [
       "<div>\n",
       "<style scoped>\n",
       "    .dataframe tbody tr th:only-of-type {\n",
       "        vertical-align: middle;\n",
       "    }\n",
       "\n",
       "    .dataframe tbody tr th {\n",
       "        vertical-align: top;\n",
       "    }\n",
       "\n",
       "    .dataframe thead th {\n",
       "        text-align: right;\n",
       "    }\n",
       "</style>\n",
       "<table border=\"1\" class=\"dataframe\">\n",
       "  <thead>\n",
       "    <tr style=\"text-align: right;\">\n",
       "      <th></th>\n",
       "      <th>sovereignt</th>\n",
       "      <th>iso_a3</th>\n",
       "      <th>geometry</th>\n",
       "      <th>Country</th>\n",
       "      <th>2010 Score</th>\n",
       "      <th>2020 Score</th>\n",
       "      <th>Difference</th>\n",
       "    </tr>\n",
       "  </thead>\n",
       "  <tbody>\n",
       "    <tr>\n",
       "      <th>0</th>\n",
       "      <td>Burundi</td>\n",
       "      <td>BDI</td>\n",
       "      <td>POLYGON ((30.41507 -2.31309, 30.41848 -2.31185...</td>\n",
       "      <td>Burundi</td>\n",
       "      <td>4.01</td>\n",
       "      <td>2.14</td>\n",
       "      <td>-1.87</td>\n",
       "    </tr>\n",
       "    <tr>\n",
       "      <th>1</th>\n",
       "      <td>Angola</td>\n",
       "      <td>AGO</td>\n",
       "      <td>MULTIPOLYGON (((11.73752 -16.69258, 11.73851 -...</td>\n",
       "      <td>Angola</td>\n",
       "      <td>3.32</td>\n",
       "      <td>3.66</td>\n",
       "      <td>0.34</td>\n",
       "    </tr>\n",
       "    <tr>\n",
       "      <th>2</th>\n",
       "      <td>Benin</td>\n",
       "      <td>BEN</td>\n",
       "      <td>POLYGON ((3.34164 11.88289, 3.35507 11.88904, ...</td>\n",
       "      <td>Benin</td>\n",
       "      <td>6.17</td>\n",
       "      <td>4.58</td>\n",
       "      <td>-1.59</td>\n",
       "    </tr>\n",
       "    <tr>\n",
       "      <th>3</th>\n",
       "      <td>Burkina Faso</td>\n",
       "      <td>BFA</td>\n",
       "      <td>POLYGON ((-0.39767 15.00213, -0.36147 15.01774...</td>\n",
       "      <td>Burkina Faso</td>\n",
       "      <td>3.59</td>\n",
       "      <td>3.73</td>\n",
       "      <td>0.14</td>\n",
       "    </tr>\n",
       "    <tr>\n",
       "      <th>4</th>\n",
       "      <td>Botswana</td>\n",
       "      <td>BWA</td>\n",
       "      <td>POLYGON ((25.25978 -17.79411, 25.21937 -17.879...</td>\n",
       "      <td>Botswana</td>\n",
       "      <td>7.63</td>\n",
       "      <td>7.62</td>\n",
       "      <td>-0.01</td>\n",
       "    </tr>\n",
       "  </tbody>\n",
       "</table>\n",
       "</div>"
      ],
      "text/plain": [
       "     sovereignt iso_a3                                           geometry  \\\n",
       "0       Burundi    BDI  POLYGON ((30.41507 -2.31309, 30.41848 -2.31185...   \n",
       "1        Angola    AGO  MULTIPOLYGON (((11.73752 -16.69258, 11.73851 -...   \n",
       "2         Benin    BEN  POLYGON ((3.34164 11.88289, 3.35507 11.88904, ...   \n",
       "3  Burkina Faso    BFA  POLYGON ((-0.39767 15.00213, -0.36147 15.01774...   \n",
       "4      Botswana    BWA  POLYGON ((25.25978 -17.79411, 25.21937 -17.879...   \n",
       "\n",
       "        Country  2010 Score  2020 Score  Difference  \n",
       "0       Burundi        4.01        2.14       -1.87  \n",
       "1        Angola        3.32        3.66        0.34  \n",
       "2         Benin        6.17        4.58       -1.59  \n",
       "3  Burkina Faso        3.59        3.73        0.14  \n",
       "4      Botswana        7.63        7.62       -0.01  "
      ]
     },
     "execution_count": 34,
     "metadata": {},
     "output_type": "execute_result"
    }
   ],
   "source": [
    "#now make merge\n",
    "df_economist_diff = geo_df.merge(df_economist_diff,left_on=\"sovereignt\",right_on=\"Country\")\n",
    "df_economist_diff.head()"
   ]
  },
  {
   "cell_type": "code",
   "execution_count": 35,
   "id": "ec2cc7bd",
   "metadata": {},
   "outputs": [
    {
     "name": "stdout",
     "output_type": "stream",
     "text": [
      "       2010 Score  2020 Score  Difference\n",
      "count   48.000000   48.000000   48.000000\n",
      "mean     4.030208    4.063542    0.033333\n",
      "std      1.626488    1.650830    0.922956\n",
      "min      1.520000    1.130000   -2.080000\n",
      "25%      2.897500    3.042500   -0.305000\n",
      "50%      3.460000    3.750000    0.070000\n",
      "75%      5.120000    5.062500    0.340000\n",
      "max      7.940000    7.650000    3.800000\n"
     ]
    }
   ],
   "source": [
    "print(df_economist_diff.describe())"
   ]
  },
  {
   "cell_type": "code",
   "execution_count": 36,
   "id": "c3245453",
   "metadata": {},
   "outputs": [
    {
     "data": {
      "text/html": [
       "<div>\n",
       "<style scoped>\n",
       "    .dataframe tbody tr th:only-of-type {\n",
       "        vertical-align: middle;\n",
       "    }\n",
       "\n",
       "    .dataframe tbody tr th {\n",
       "        vertical-align: top;\n",
       "    }\n",
       "\n",
       "    .dataframe thead th {\n",
       "        text-align: right;\n",
       "    }\n",
       "</style>\n",
       "<table border=\"1\" class=\"dataframe\">\n",
       "  <thead>\n",
       "    <tr style=\"text-align: right;\">\n",
       "      <th></th>\n",
       "      <th>sovereignt</th>\n",
       "      <th>iso_a3</th>\n",
       "      <th>geometry</th>\n",
       "      <th>Country</th>\n",
       "      <th>2010 Score</th>\n",
       "      <th>2020 Score</th>\n",
       "      <th>Difference</th>\n",
       "      <th>DifferenceBins</th>\n",
       "    </tr>\n",
       "  </thead>\n",
       "  <tbody>\n",
       "    <tr>\n",
       "      <th>0</th>\n",
       "      <td>Burundi</td>\n",
       "      <td>BDI</td>\n",
       "      <td>POLYGON ((30.41507 -2.31309, 30.41848 -2.31185...</td>\n",
       "      <td>Burundi</td>\n",
       "      <td>4.01</td>\n",
       "      <td>2.14</td>\n",
       "      <td>-1.87</td>\n",
       "      <td>-2</td>\n",
       "    </tr>\n",
       "    <tr>\n",
       "      <th>1</th>\n",
       "      <td>Angola</td>\n",
       "      <td>AGO</td>\n",
       "      <td>MULTIPOLYGON (((11.73752 -16.69258, 11.73851 -...</td>\n",
       "      <td>Angola</td>\n",
       "      <td>3.32</td>\n",
       "      <td>3.66</td>\n",
       "      <td>0.34</td>\n",
       "      <td>0</td>\n",
       "    </tr>\n",
       "    <tr>\n",
       "      <th>2</th>\n",
       "      <td>Benin</td>\n",
       "      <td>BEN</td>\n",
       "      <td>POLYGON ((3.34164 11.88289, 3.35507 11.88904, ...</td>\n",
       "      <td>Benin</td>\n",
       "      <td>6.17</td>\n",
       "      <td>4.58</td>\n",
       "      <td>-1.59</td>\n",
       "      <td>-2</td>\n",
       "    </tr>\n",
       "    <tr>\n",
       "      <th>3</th>\n",
       "      <td>Burkina Faso</td>\n",
       "      <td>BFA</td>\n",
       "      <td>POLYGON ((-0.39767 15.00213, -0.36147 15.01774...</td>\n",
       "      <td>Burkina Faso</td>\n",
       "      <td>3.59</td>\n",
       "      <td>3.73</td>\n",
       "      <td>0.14</td>\n",
       "      <td>0</td>\n",
       "    </tr>\n",
       "    <tr>\n",
       "      <th>4</th>\n",
       "      <td>Botswana</td>\n",
       "      <td>BWA</td>\n",
       "      <td>POLYGON ((25.25978 -17.79411, 25.21937 -17.879...</td>\n",
       "      <td>Botswana</td>\n",
       "      <td>7.63</td>\n",
       "      <td>7.62</td>\n",
       "      <td>-0.01</td>\n",
       "      <td>-1</td>\n",
       "    </tr>\n",
       "  </tbody>\n",
       "</table>\n",
       "</div>"
      ],
      "text/plain": [
       "     sovereignt iso_a3                                           geometry  \\\n",
       "0       Burundi    BDI  POLYGON ((30.41507 -2.31309, 30.41848 -2.31185...   \n",
       "1        Angola    AGO  MULTIPOLYGON (((11.73752 -16.69258, 11.73851 -...   \n",
       "2         Benin    BEN  POLYGON ((3.34164 11.88289, 3.35507 11.88904, ...   \n",
       "3  Burkina Faso    BFA  POLYGON ((-0.39767 15.00213, -0.36147 15.01774...   \n",
       "4      Botswana    BWA  POLYGON ((25.25978 -17.79411, 25.21937 -17.879...   \n",
       "\n",
       "        Country  2010 Score  2020 Score  Difference DifferenceBins  \n",
       "0       Burundi        4.01        2.14       -1.87             -2  \n",
       "1        Angola        3.32        3.66        0.34              0  \n",
       "2         Benin        6.17        4.58       -1.59             -2  \n",
       "3  Burkina Faso        3.59        3.73        0.14              0  \n",
       "4      Botswana        7.63        7.62       -0.01             -1  "
      ]
     },
     "execution_count": 36,
     "metadata": {},
     "output_type": "execute_result"
    }
   ],
   "source": [
    "#Fix difference into discrete bins\n",
    "df_economist_diff[\"DifferenceBins\"] = pd.cut(df_economist_diff.Difference,[-3, -2, -1, 0, 1, 2, 3, 4])\n",
    "#Selct the lower bound to represent the bins, as we cant use bins notation\n",
    "df_economist_diff[\"DifferenceBins\"] = df_economist_diff[\"DifferenceBins\"].apply(lambda x: x.left)\n",
    "df_economist_diff.head()"
   ]
  },
  {
   "cell_type": "code",
   "execution_count": 37,
   "id": "27a169b0",
   "metadata": {},
   "outputs": [
    {
     "data": {
      "image/png": "[encoded data removed]",
      "text/plain": [
       "<Figure size 432x288 with 2 Axes>"
      ]
     },
     "metadata": {
      "needs_background": "light"
     },
     "output_type": "display_data"
    }
   ],
   "source": [
    "# Define the CartoPy CRS object.\n",
    "crs = ccrs.Orthographic(18,globe=None)\n",
    "\n",
    "# This can be converted into a `proj4` string/dict compatible with GeoPandas\n",
    "crs_proj4 = crs.proj4_init\n",
    "df_ae = df_economist_diff.to_crs(crs_proj4)\n",
    "\n",
    "# Here's what the plot looks like in GeoPandas\n",
    "df_ae.plot(column=\"Difference\",\n",
    "                   legend=True,cmap=\"Pastel2\")\n",
    "\n",
    "plt.ylim(-7000000, 7000000)\n",
    "plt.xlim(-7000000, 7000000)\n",
    "\n",
    "plt.savefig(\"Differences.svg\")\n",
    "plt.show()"
   ]
  },
  {
   "cell_type": "code",
   "execution_count": 42,
   "id": "ff57f6b6",
   "metadata": {},
   "outputs": [
    {
     "data": {
      "text/html": [
       "        <script type=\"text/javascript\">\n",
       "        window.PlotlyConfig = {MathJaxConfig: 'local'};\n",
       "        if (window.MathJax) {MathJax.Hub.Config({SVG: {font: \"STIX-Web\"}});}\n",
       "        if (typeof require !== 'undefined') {\n",
       "        require.undef(\"plotly\");\n",
       "        requirejs.config({\n",
       "            paths: {\n",
       "                'plotly': ['https://cdn.plot.ly/plotly-2.6.3.min']\n",
       "            }\n",
       "        });\n",
       "        require(['plotly'], function(Plotly) {\n",
       "            window._Plotly = Plotly;\n",
       "        });\n",
       "        }\n",
       "        </script>\n",
       "        "
      ]
     },
     "metadata": {},
     "output_type": "display_data"
    }
   ],
   "source": [
    "import plotly as py\n",
    "import plotly.offline as po\n",
    "import plotly.graph_objs as pg\n",
    "\n",
    "po.init_notebook_mode(connected = True)"
   ]
  },
  {
   "cell_type": "code",
   "execution_count": 61,
   "id": "47783b2f",
   "metadata": {},
   "outputs": [
    {
     "data": {
      "application/vnd.plotly.v1+json": {
       "config": {
        "linkText": "Export to plot.ly",
        "plotlyServerURL": "https://plot.ly",
        "showLink": false
       },
       "data": [
        {
         "colorbar": {
          "title": {
           "text": "Democracy change"
          }
         },
         "colorscale": [
          [
           0,
           "rgb(247,252,245)"
          ],
          [
           0.125,
           "rgb(229,245,224)"
          ],
          [
           0.25,
           "rgb(199,233,192)"
          ],
          [
           0.375,
           "rgb(161,217,155)"
          ],
          [
           0.5,
           "rgb(116,196,118)"
          ],
          [
           0.625,
           "rgb(65,171,93)"
          ],
          [
           0.75,
           "rgb(35,139,69)"
          ],
          [
           0.875,
           "rgb(0,109,44)"
          ],
          [
           1,
           "rgb(0,68,27)"
          ]
         ],
         "locationmode": "country names",
         "locations": [
          "Burundi",
          "Angola",
          "Benin",
          "Burkina Faso",
          "Botswana",
          "Central African Republic",
          "Ivory Coast",
          "Cameroon",
          "Democratic Republic of the Congo",
          "Republic of Congo",
          "Cape Verde",
          "Comoros",
          "Djibouti",
          "Algeria",
          "Egypt",
          "Eritrea",
          "Ethiopia",
          "Gabon",
          "Ghana",
          "Equatorial Guinea",
          "Kenya",
          "Gambia",
          "Liberia",
          "Libya",
          "Lesotho",
          "Guinea",
          "Madagascar",
          "Morocco",
          "Mali",
          "Malawi",
          "Mozambique",
          "Mauritania",
          "Namibia",
          "Niger",
          "Nigeria",
          "Rwanda",
          "Sudan",
          "Senegal",
          "Chad",
          "Sierra Leone",
          "Tunisia",
          "Togo",
          "Swaziland",
          "United Republic of Tanzania",
          "Uganda",
          "South Africa",
          "Zambia",
          "Zimbabwe"
         ],
         "type": "choropleth",
         "z": [
          -2,
          0,
          -2,
          0,
          -1,
          -1,
          1,
          -1,
          -2,
          0,
          -1,
          -1,
          0,
          0,
          -1,
          -1,
          -1,
          0,
          0,
          0,
          0,
          1,
          0,
          0,
          0,
          0,
          1,
          1,
          -3,
          -1,
          -2,
          0,
          0,
          -1,
          0,
          -1,
          0,
          0,
          0,
          0,
          3,
          -1,
          0,
          -1,
          -1,
          -1,
          -1,
          0
         ]
        }
       ],
       "layout": {
        "geo": {
         "projection": {
          "rotation": {
           "lon": 15
          },
          "type": "orthographic"
         },
         "scope": "world",
         "showlakes": false
        },
        "template": {
         "data": {
          "bar": [
           {
            "error_x": {
             "color": "#2a3f5f"
            },
            "error_y": {
             "color": "#2a3f5f"
            },
            "marker": {
             "line": {
              "color": "#E5ECF6",
              "width": 0.5
             },
             "pattern": {
              "fillmode": "overlay",
              "size": 10,
              "solidity": 0.2
             }
            },
            "type": "bar"
           }
          ],
          "barpolar": [
           {
            "marker": {
             "line": {
              "color": "#E5ECF6",
              "width": 0.5
             },
             "pattern": {
              "fillmode": "overlay",
              "size": 10,
              "solidity": 0.2
             }
            },
            "type": "barpolar"
           }
          ],
          "carpet": [
           {
            "aaxis": {
             "endlinecolor": "#2a3f5f",
             "gridcolor": "white",
             "linecolor": "white",
             "minorgridcolor": "white",
             "startlinecolor": "#2a3f5f"
            },
            "baxis": {
             "endlinecolor": "#2a3f5f",
             "gridcolor": "white",
             "linecolor": "white",
             "minorgridcolor": "white",
             "startlinecolor": "#2a3f5f"
            },
            "type": "carpet"
           }
          ],
          "choropleth": [
           {
            "colorbar": {
             "outlinewidth": 0,
             "ticks": ""
            },
            "type": "choropleth"
           }
          ],
          "contour": [
           {
            "colorbar": {
             "outlinewidth": 0,
             "ticks": ""
            },
            "colorscale": [
             [
              0,
              "#0d0887"
             ],
             [
              0.1111111111111111,
              "#46039f"
             ],
             [
              0.2222222222222222,
              "#7201a8"
             ],
             [
              0.3333333333333333,
              "#9c179e"
             ],
             [
              0.4444444444444444,
              "#bd3786"
             ],
             [
              0.5555555555555556,
              "#d8576b"
             ],
             [
              0.6666666666666666,
              "#ed7953"
             ],
             [
              0.7777777777777778,
              "#fb9f3a"
             ],
             [
              0.8888888888888888,
              "#fdca26"
             ],
             [
              1,
              "#f0f921"
             ]
            ],
            "type": "contour"
           }
          ],
          "contourcarpet": [
           {
            "colorbar": {
             "outlinewidth": 0,
             "ticks": ""
            },
            "type": "contourcarpet"
           }
          ],
          "heatmap": [
           {
            "colorbar": {
             "outlinewidth": 0,
             "ticks": ""
            },
            "colorscale": [
             [
              0,
              "#0d0887"
             ],
             [
              0.1111111111111111,
              "#46039f"
             ],
             [
              0.2222222222222222,
              "#7201a8"
             ],
             [
              0.3333333333333333,
              "#9c179e"
             ],
             [
              0.4444444444444444,
              "#bd3786"
             ],
             [
              0.5555555555555556,
              "#d8576b"
             ],
             [
              0.6666666666666666,
              "#ed7953"
             ],
             [
              0.7777777777777778,
              "#fb9f3a"
             ],
             [
              0.8888888888888888,
              "#fdca26"
             ],
             [
              1,
              "#f0f921"
             ]
            ],
            "type": "heatmap"
           }
          ],
          "heatmapgl": [
           {
            "colorbar": {
             "outlinewidth": 0,
             "ticks": ""
            },
            "colorscale": [
             [
              0,
              "#0d0887"
             ],
             [
              0.1111111111111111,
              "#46039f"
             ],
             [
              0.2222222222222222,
              "#7201a8"
             ],
             [
              0.3333333333333333,
              "#9c179e"
             ],
             [
              0.4444444444444444,
              "#bd3786"
             ],
             [
              0.5555555555555556,
              "#d8576b"
             ],
             [
              0.6666666666666666,
              "#ed7953"
             ],
             [
              0.7777777777777778,
              "#fb9f3a"
             ],
             [
              0.8888888888888888,
              "#fdca26"
             ],
             [
              1,
              "#f0f921"
             ]
            ],
            "type": "heatmapgl"
           }
          ],
          "histogram": [
           {
            "marker": {
             "pattern": {
              "fillmode": "overlay",
              "size": 10,
              "solidity": 0.2
             }
            },
            "type": "histogram"
           }
          ],
          "histogram2d": [
           {
            "colorbar": {
             "outlinewidth": 0,
             "ticks": ""
            },
            "colorscale": [
             [
              0,
              "#0d0887"
             ],
             [
              0.1111111111111111,
              "#46039f"
             ],
             [
              0.2222222222222222,
              "#7201a8"
             ],
             [
              0.3333333333333333,
              "#9c179e"
             ],
             [
              0.4444444444444444,
              "#bd3786"
             ],
             [
              0.5555555555555556,
              "#d8576b"
             ],
             [
              0.6666666666666666,
              "#ed7953"
             ],
             [
              0.7777777777777778,
              "#fb9f3a"
             ],
             [
              0.8888888888888888,
              "#fdca26"
             ],
             [
              1,
              "#f0f921"
             ]
            ],
            "type": "histogram2d"
           }
          ],
          "histogram2dcontour": [
           {
            "colorbar": {
             "outlinewidth": 0,
             "ticks": ""
            },
            "colorscale": [
             [
              0,
              "#0d0887"
             ],
             [
              0.1111111111111111,
              "#46039f"
             ],
             [
              0.2222222222222222,
              "#7201a8"
             ],
             [
              0.3333333333333333,
              "#9c179e"
             ],
             [
              0.4444444444444444,
              "#bd3786"
             ],
             [
              0.5555555555555556,
              "#d8576b"
             ],
             [
              0.6666666666666666,
              "#ed7953"
             ],
             [
              0.7777777777777778,
              "#fb9f3a"
             ],
             [
              0.8888888888888888,
              "#fdca26"
             ],
             [
              1,
              "#f0f921"
             ]
            ],
            "type": "histogram2dcontour"
           }
          ],
          "mesh3d": [
           {
            "colorbar": {
             "outlinewidth": 0,
             "ticks": ""
            },
            "type": "mesh3d"
           }
          ],
          "parcoords": [
           {
            "line": {
             "colorbar": {
              "outlinewidth": 0,
              "ticks": ""
             }
            },
            "type": "parcoords"
           }
          ],
          "pie": [
           {
            "automargin": true,
            "type": "pie"
           }
          ],
          "scatter": [
           {
            "marker": {
             "colorbar": {
              "outlinewidth": 0,
              "ticks": ""
             }
            },
            "type": "scatter"
           }
          ],
          "scatter3d": [
           {
            "line": {
             "colorbar": {
              "outlinewidth": 0,
              "ticks": ""
             }
            },
            "marker": {
             "colorbar": {
              "outlinewidth": 0,
              "ticks": ""
             }
            },
            "type": "scatter3d"
           }
          ],
          "scattercarpet": [
           {
            "marker": {
             "colorbar": {
              "outlinewidth": 0,
              "ticks": ""
             }
            },
            "type": "scattercarpet"
           }
          ],
          "scattergeo": [
           {
            "marker": {
             "colorbar": {
              "outlinewidth": 0,
              "ticks": ""
             }
            },
            "type": "scattergeo"
           }
          ],
          "scattergl": [
           {
            "marker": {
             "colorbar": {
              "outlinewidth": 0,
              "ticks": ""
             }
            },
            "type": "scattergl"
           }
          ],
          "scattermapbox": [
           {
            "marker": {
             "colorbar": {
              "outlinewidth": 0,
              "ticks": ""
             }
            },
            "type": "scattermapbox"
           }
          ],
          "scatterpolar": [
           {
            "marker": {
             "colorbar": {
              "outlinewidth": 0,
              "ticks": ""
             }
            },
            "type": "scatterpolar"
           }
          ],
          "scatterpolargl": [
           {
            "marker": {
             "colorbar": {
              "outlinewidth": 0,
              "ticks": ""
             }
            },
            "type": "scatterpolargl"
           }
          ],
          "scatterternary": [
           {
            "marker": {
             "colorbar": {
              "outlinewidth": 0,
              "ticks": ""
             }
            },
            "type": "scatterternary"
           }
          ],
          "surface": [
           {
            "colorbar": {
             "outlinewidth": 0,
             "ticks": ""
            },
            "colorscale": [
             [
              0,
              "#0d0887"
             ],
             [
              0.1111111111111111,
              "#46039f"
             ],
             [
              0.2222222222222222,
              "#7201a8"
             ],
             [
              0.3333333333333333,
              "#9c179e"
             ],
             [
              0.4444444444444444,
              "#bd3786"
             ],
             [
              0.5555555555555556,
              "#d8576b"
             ],
             [
              0.6666666666666666,
              "#ed7953"
             ],
             [
              0.7777777777777778,
              "#fb9f3a"
             ],
             [
              0.8888888888888888,
              "#fdca26"
             ],
             [
              1,
              "#f0f921"
             ]
            ],
            "type": "surface"
           }
          ],
          "table": [
           {
            "cells": {
             "fill": {
              "color": "#EBF0F8"
             },
             "line": {
              "color": "white"
             }
            },
            "header": {
             "fill": {
              "color": "#C8D4E3"
             },
             "line": {
              "color": "white"
             }
            },
            "type": "table"
           }
          ]
         },
         "layout": {
          "annotationdefaults": {
           "arrowcolor": "#2a3f5f",
           "arrowhead": 0,
           "arrowwidth": 1
          },
          "autotypenumbers": "strict",
          "coloraxis": {
           "colorbar": {
            "outlinewidth": 0,
            "ticks": ""
           }
          },
          "colorscale": {
           "diverging": [
            [
             0,
             "#8e0152"
            ],
            [
             0.1,
             "#c51b7d"
            ],
            [
             0.2,
             "#de77ae"
            ],
            [
             0.3,
             "#f1b6da"
            ],
            [
             0.4,
             "#fde0ef"
            ],
            [
             0.5,
             "#f7f7f7"
            ],
            [
             0.6,
             "#e6f5d0"
            ],
            [
             0.7,
             "#b8e186"
            ],
            [
             0.8,
             "#7fbc41"
            ],
            [
             0.9,
             "#4d9221"
            ],
            [
             1,
             "#276419"
            ]
           ],
           "sequential": [
            [
             0,
             "#0d0887"
            ],
            [
             0.1111111111111111,
             "#46039f"
            ],
            [
             0.2222222222222222,
             "#7201a8"
            ],
            [
             0.3333333333333333,
             "#9c179e"
            ],
            [
             0.4444444444444444,
             "#bd3786"
            ],
            [
             0.5555555555555556,
             "#d8576b"
            ],
            [
             0.6666666666666666,
             "#ed7953"
            ],
            [
             0.7777777777777778,
             "#fb9f3a"
            ],
            [
             0.8888888888888888,
             "#fdca26"
            ],
            [
             1,
             "#f0f921"
            ]
           ],
           "sequentialminus": [
            [
             0,
             "#0d0887"
            ],
            [
             0.1111111111111111,
             "#46039f"
            ],
            [
             0.2222222222222222,
             "#7201a8"
            ],
            [
             0.3333333333333333,
             "#9c179e"
            ],
            [
             0.4444444444444444,
             "#bd3786"
            ],
            [
             0.5555555555555556,
             "#d8576b"
            ],
            [
             0.6666666666666666,
             "#ed7953"
            ],
            [
             0.7777777777777778,
             "#fb9f3a"
            ],
            [
             0.8888888888888888,
             "#fdca26"
            ],
            [
             1,
             "#f0f921"
            ]
           ]
          },
          "colorway": [
           "#636efa",
           "#EF553B",
           "#00cc96",
           "#ab63fa",
           "#FFA15A",
           "#19d3f3",
           "#FF6692",
           "#B6E880",
           "#FF97FF",
           "#FECB52"
          ],
          "font": {
           "color": "#2a3f5f"
          },
          "geo": {
           "bgcolor": "white",
           "lakecolor": "white",
           "landcolor": "#E5ECF6",
           "showlakes": true,
           "showland": true,
           "subunitcolor": "white"
          },
          "hoverlabel": {
           "align": "left"
          },
          "hovermode": "closest",
          "mapbox": {
           "style": "light"
          },
          "paper_bgcolor": "white",
          "plot_bgcolor": "#E5ECF6",
          "polar": {
           "angularaxis": {
            "gridcolor": "white",
            "linecolor": "white",
            "ticks": ""
           },
           "bgcolor": "#E5ECF6",
           "radialaxis": {
            "gridcolor": "white",
            "linecolor": "white",
            "ticks": ""
           }
          },
          "scene": {
           "xaxis": {
            "backgroundcolor": "#E5ECF6",
            "gridcolor": "white",
            "gridwidth": 2,
            "linecolor": "white",
            "showbackground": true,
            "ticks": "",
            "zerolinecolor": "white"
           },
           "yaxis": {
            "backgroundcolor": "#E5ECF6",
            "gridcolor": "white",
            "gridwidth": 2,
            "linecolor": "white",
            "showbackground": true,
            "ticks": "",
            "zerolinecolor": "white"
           },
           "zaxis": {
            "backgroundcolor": "#E5ECF6",
            "gridcolor": "white",
            "gridwidth": 2,
            "linecolor": "white",
            "showbackground": true,
            "ticks": "",
            "zerolinecolor": "white"
           }
          },
          "shapedefaults": {
           "line": {
            "color": "#2a3f5f"
           }
          },
          "ternary": {
           "aaxis": {
            "gridcolor": "white",
            "linecolor": "white",
            "ticks": ""
           },
           "baxis": {
            "gridcolor": "white",
            "linecolor": "white",
            "ticks": ""
           },
           "bgcolor": "#E5ECF6",
           "caxis": {
            "gridcolor": "white",
            "linecolor": "white",
            "ticks": ""
           }
          },
          "title": {
           "x": 0.05
          },
          "xaxis": {
           "automargin": true,
           "gridcolor": "white",
           "linecolor": "white",
           "ticks": "",
           "title": {
            "standoff": 15
           },
           "zerolinecolor": "white",
           "zerolinewidth": 2
          },
          "yaxis": {
           "automargin": true,
           "gridcolor": "white",
           "linecolor": "white",
           "ticks": "",
           "title": {
            "standoff": 15
           },
           "zerolinecolor": "white",
           "zerolinewidth": 2
          }
         }
        },
        "title": {
         "text": "Democracy change in Africa"
        }
       }
      },
      "text/html": [
       "<div>                            <div id=\"0b5e5f0f-e06e-4820-ab85-8d329ceb6338\" class=\"plotly-graph-div\" style=\"height:525px; width:100%;\"></div>            <script type=\"text/javascript\">                require([\"plotly\"], function(Plotly) {                    window.PLOTLYENV=window.PLOTLYENV || {};                                    if (document.getElementById(\"0b5e5f0f-e06e-4820-ab85-8d329ceb6338\")) {                    Plotly.newPlot(                        \"0b5e5f0f-e06e-4820-ab85-8d329ceb6338\",                        [{\"colorbar\":{\"title\":{\"text\":\"Democracy change\"}},\"colorscale\":[[0.0,\"rgb(247,252,245)\"],[0.125,\"rgb(229,245,224)\"],[0.25,\"rgb(199,233,192)\"],[0.375,\"rgb(161,217,155)\"],[0.5,\"rgb(116,196,118)\"],[0.625,\"rgb(65,171,93)\"],[0.75,\"rgb(35,139,69)\"],[0.875,\"rgb(0,109,44)\"],[1.0,\"rgb(0,68,27)\"]],\"locationmode\":\"country names\",\"locations\":[\"Burundi\",\"Angola\",\"Benin\",\"Burkina Faso\",\"Botswana\",\"Central African Republic\",\"Ivory Coast\",\"Cameroon\",\"Democratic Republic of the Congo\",\"Republic of Congo\",\"Cape Verde\",\"Comoros\",\"Djibouti\",\"Algeria\",\"Egypt\",\"Eritrea\",\"Ethiopia\",\"Gabon\",\"Ghana\",\"Equatorial Guinea\",\"Kenya\",\"Gambia\",\"Liberia\",\"Libya\",\"Lesotho\",\"Guinea\",\"Madagascar\",\"Morocco\",\"Mali\",\"Malawi\",\"Mozambique\",\"Mauritania\",\"Namibia\",\"Niger\",\"Nigeria\",\"Rwanda\",\"Sudan\",\"Senegal\",\"Chad\",\"Sierra Leone\",\"Tunisia\",\"Togo\",\"Swaziland\",\"United Republic of Tanzania\",\"Uganda\",\"South Africa\",\"Zambia\",\"Zimbabwe\"],\"z\":[-2,0,-2,0,-1,-1,1,-1,-2,0,-1,-1,0,0,-1,-1,-1,0,0,0,0,1,0,0,0,0,1,1,-3,-1,-2,0,0,-1,0,-1,0,0,0,0,3,-1,0,-1,-1,-1,-1,0],\"type\":\"choropleth\"}],                        {\"geo\":{\"projection\":{\"rotation\":{\"lon\":15},\"type\":\"orthographic\"},\"scope\":\"world\",\"showlakes\":false},\"template\":{\"data\":{\"barpolar\":[{\"marker\":{\"line\":{\"color\":\"#E5ECF6\",\"width\":0.5},\"pattern\":{\"fillmode\":\"overlay\",\"size\":10,\"solidity\":0.2}},\"type\":\"barpolar\"}],\"bar\":[{\"error_x\":{\"color\":\"#2a3f5f\"},\"error_y\":{\"color\":\"#2a3f5f\"},\"marker\":{\"line\":{\"color\":\"#E5ECF6\",\"width\":0.5},\"pattern\":{\"fillmode\":\"overlay\",\"size\":10,\"solidity\":0.2}},\"type\":\"bar\"}],\"carpet\":[{\"aaxis\":{\"endlinecolor\":\"#2a3f5f\",\"gridcolor\":\"white\",\"linecolor\":\"white\",\"minorgridcolor\":\"white\",\"startlinecolor\":\"#2a3f5f\"},\"baxis\":{\"endlinecolor\":\"#2a3f5f\",\"gridcolor\":\"white\",\"linecolor\":\"white\",\"minorgridcolor\":\"white\",\"startlinecolor\":\"#2a3f5f\"},\"type\":\"carpet\"}],\"choropleth\":[{\"colorbar\":{\"outlinewidth\":0,\"ticks\":\"\"},\"type\":\"choropleth\"}],\"contourcarpet\":[{\"colorbar\":{\"outlinewidth\":0,\"ticks\":\"\"},\"type\":\"contourcarpet\"}],\"contour\":[{\"colorbar\":{\"outlinewidth\":0,\"ticks\":\"\"},\"colorscale\":[[0.0,\"#0d0887\"],[0.1111111111111111,\"#46039f\"],[0.2222222222222222,\"#7201a8\"],[0.3333333333333333,\"#9c179e\"],[0.4444444444444444,\"#bd3786\"],[0.5555555555555556,\"#d8576b\"],[0.6666666666666666,\"#ed7953\"],[0.7777777777777778,\"#fb9f3a\"],[0.8888888888888888,\"#fdca26\"],[1.0,\"#f0f921\"]],\"type\":\"contour\"}],\"heatmapgl\":[{\"colorbar\":{\"outlinewidth\":0,\"ticks\":\"\"},\"colorscale\":[[0.0,\"#0d0887\"],[0.1111111111111111,\"#46039f\"],[0.2222222222222222,\"#7201a8\"],[0.3333333333333333,\"#9c179e\"],[0.4444444444444444,\"#bd3786\"],[0.5555555555555556,\"#d8576b\"],[0.6666666666666666,\"#ed7953\"],[0.7777777777777778,\"#fb9f3a\"],[0.8888888888888888,\"#fdca26\"],[1.0,\"#f0f921\"]],\"type\":\"heatmapgl\"}],\"heatmap\":[{\"colorbar\":{\"outlinewidth\":0,\"ticks\":\"\"},\"colorscale\":[[0.0,\"#0d0887\"],[0.1111111111111111,\"#46039f\"],[0.2222222222222222,\"#7201a8\"],[0.3333333333333333,\"#9c179e\"],[0.4444444444444444,\"#bd3786\"],[0.5555555555555556,\"#d8576b\"],[0.6666666666666666,\"#ed7953\"],[0.7777777777777778,\"#fb9f3a\"],[0.8888888888888888,\"#fdca26\"],[1.0,\"#f0f921\"]],\"type\":\"heatmap\"}],\"histogram2dcontour\":[{\"colorbar\":{\"outlinewidth\":0,\"ticks\":\"\"},\"colorscale\":[[0.0,\"#0d0887\"],[0.1111111111111111,\"#46039f\"],[0.2222222222222222,\"#7201a8\"],[0.3333333333333333,\"#9c179e\"],[0.4444444444444444,\"#bd3786\"],[0.5555555555555556,\"#d8576b\"],[0.6666666666666666,\"#ed7953\"],[0.7777777777777778,\"#fb9f3a\"],[0.8888888888888888,\"#fdca26\"],[1.0,\"#f0f921\"]],\"type\":\"histogram2dcontour\"}],\"histogram2d\":[{\"colorbar\":{\"outlinewidth\":0,\"ticks\":\"\"},\"colorscale\":[[0.0,\"#0d0887\"],[0.1111111111111111,\"#46039f\"],[0.2222222222222222,\"#7201a8\"],[0.3333333333333333,\"#9c179e\"],[0.4444444444444444,\"#bd3786\"],[0.5555555555555556,\"#d8576b\"],[0.6666666666666666,\"#ed7953\"],[0.7777777777777778,\"#fb9f3a\"],[0.8888888888888888,\"#fdca26\"],[1.0,\"#f0f921\"]],\"type\":\"histogram2d\"}],\"histogram\":[{\"marker\":{\"pattern\":{\"fillmode\":\"overlay\",\"size\":10,\"solidity\":0.2}},\"type\":\"histogram\"}],\"mesh3d\":[{\"colorbar\":{\"outlinewidth\":0,\"ticks\":\"\"},\"type\":\"mesh3d\"}],\"parcoords\":[{\"line\":{\"colorbar\":{\"outlinewidth\":0,\"ticks\":\"\"}},\"type\":\"parcoords\"}],\"pie\":[{\"automargin\":true,\"type\":\"pie\"}],\"scatter3d\":[{\"line\":{\"colorbar\":{\"outlinewidth\":0,\"ticks\":\"\"}},\"marker\":{\"colorbar\":{\"outlinewidth\":0,\"ticks\":\"\"}},\"type\":\"scatter3d\"}],\"scattercarpet\":[{\"marker\":{\"colorbar\":{\"outlinewidth\":0,\"ticks\":\"\"}},\"type\":\"scattercarpet\"}],\"scattergeo\":[{\"marker\":{\"colorbar\":{\"outlinewidth\":0,\"ticks\":\"\"}},\"type\":\"scattergeo\"}],\"scattergl\":[{\"marker\":{\"colorbar\":{\"outlinewidth\":0,\"ticks\":\"\"}},\"type\":\"scattergl\"}],\"scattermapbox\":[{\"marker\":{\"colorbar\":{\"outlinewidth\":0,\"ticks\":\"\"}},\"type\":\"scattermapbox\"}],\"scatterpolargl\":[{\"marker\":{\"colorbar\":{\"outlinewidth\":0,\"ticks\":\"\"}},\"type\":\"scatterpolargl\"}],\"scatterpolar\":[{\"marker\":{\"colorbar\":{\"outlinewidth\":0,\"ticks\":\"\"}},\"type\":\"scatterpolar\"}],\"scatter\":[{\"marker\":{\"colorbar\":{\"outlinewidth\":0,\"ticks\":\"\"}},\"type\":\"scatter\"}],\"scatterternary\":[{\"marker\":{\"colorbar\":{\"outlinewidth\":0,\"ticks\":\"\"}},\"type\":\"scatterternary\"}],\"surface\":[{\"colorbar\":{\"outlinewidth\":0,\"ticks\":\"\"},\"colorscale\":[[0.0,\"#0d0887\"],[0.1111111111111111,\"#46039f\"],[0.2222222222222222,\"#7201a8\"],[0.3333333333333333,\"#9c179e\"],[0.4444444444444444,\"#bd3786\"],[0.5555555555555556,\"#d8576b\"],[0.6666666666666666,\"#ed7953\"],[0.7777777777777778,\"#fb9f3a\"],[0.8888888888888888,\"#fdca26\"],[1.0,\"#f0f921\"]],\"type\":\"surface\"}],\"table\":[{\"cells\":{\"fill\":{\"color\":\"#EBF0F8\"},\"line\":{\"color\":\"white\"}},\"header\":{\"fill\":{\"color\":\"#C8D4E3\"},\"line\":{\"color\":\"white\"}},\"type\":\"table\"}]},\"layout\":{\"annotationdefaults\":{\"arrowcolor\":\"#2a3f5f\",\"arrowhead\":0,\"arrowwidth\":1},\"autotypenumbers\":\"strict\",\"coloraxis\":{\"colorbar\":{\"outlinewidth\":0,\"ticks\":\"\"}},\"colorscale\":{\"diverging\":[[0,\"#8e0152\"],[0.1,\"#c51b7d\"],[0.2,\"#de77ae\"],[0.3,\"#f1b6da\"],[0.4,\"#fde0ef\"],[0.5,\"#f7f7f7\"],[0.6,\"#e6f5d0\"],[0.7,\"#b8e186\"],[0.8,\"#7fbc41\"],[0.9,\"#4d9221\"],[1,\"#276419\"]],\"sequential\":[[0.0,\"#0d0887\"],[0.1111111111111111,\"#46039f\"],[0.2222222222222222,\"#7201a8\"],[0.3333333333333333,\"#9c179e\"],[0.4444444444444444,\"#bd3786\"],[0.5555555555555556,\"#d8576b\"],[0.6666666666666666,\"#ed7953\"],[0.7777777777777778,\"#fb9f3a\"],[0.8888888888888888,\"#fdca26\"],[1.0,\"#f0f921\"]],\"sequentialminus\":[[0.0,\"#0d0887\"],[0.1111111111111111,\"#46039f\"],[0.2222222222222222,\"#7201a8\"],[0.3333333333333333,\"#9c179e\"],[0.4444444444444444,\"#bd3786\"],[0.5555555555555556,\"#d8576b\"],[0.6666666666666666,\"#ed7953\"],[0.7777777777777778,\"#fb9f3a\"],[0.8888888888888888,\"#fdca26\"],[1.0,\"#f0f921\"]]},\"colorway\":[\"#636efa\",\"#EF553B\",\"#00cc96\",\"#ab63fa\",\"#FFA15A\",\"#19d3f3\",\"#FF6692\",\"#B6E880\",\"#FF97FF\",\"#FECB52\"],\"font\":{\"color\":\"#2a3f5f\"},\"geo\":{\"bgcolor\":\"white\",\"lakecolor\":\"white\",\"landcolor\":\"#E5ECF6\",\"showlakes\":true,\"showland\":true,\"subunitcolor\":\"white\"},\"hoverlabel\":{\"align\":\"left\"},\"hovermode\":\"closest\",\"mapbox\":{\"style\":\"light\"},\"paper_bgcolor\":\"white\",\"plot_bgcolor\":\"#E5ECF6\",\"polar\":{\"angularaxis\":{\"gridcolor\":\"white\",\"linecolor\":\"white\",\"ticks\":\"\"},\"bgcolor\":\"#E5ECF6\",\"radialaxis\":{\"gridcolor\":\"white\",\"linecolor\":\"white\",\"ticks\":\"\"}},\"scene\":{\"xaxis\":{\"backgroundcolor\":\"#E5ECF6\",\"gridcolor\":\"white\",\"gridwidth\":2,\"linecolor\":\"white\",\"showbackground\":true,\"ticks\":\"\",\"zerolinecolor\":\"white\"},\"yaxis\":{\"backgroundcolor\":\"#E5ECF6\",\"gridcolor\":\"white\",\"gridwidth\":2,\"linecolor\":\"white\",\"showbackground\":true,\"ticks\":\"\",\"zerolinecolor\":\"white\"},\"zaxis\":{\"backgroundcolor\":\"#E5ECF6\",\"gridcolor\":\"white\",\"gridwidth\":2,\"linecolor\":\"white\",\"showbackground\":true,\"ticks\":\"\",\"zerolinecolor\":\"white\"}},\"shapedefaults\":{\"line\":{\"color\":\"#2a3f5f\"}},\"ternary\":{\"aaxis\":{\"gridcolor\":\"white\",\"linecolor\":\"white\",\"ticks\":\"\"},\"baxis\":{\"gridcolor\":\"white\",\"linecolor\":\"white\",\"ticks\":\"\"},\"bgcolor\":\"#E5ECF6\",\"caxis\":{\"gridcolor\":\"white\",\"linecolor\":\"white\",\"ticks\":\"\"}},\"title\":{\"x\":0.05},\"xaxis\":{\"automargin\":true,\"gridcolor\":\"white\",\"linecolor\":\"white\",\"ticks\":\"\",\"title\":{\"standoff\":15},\"zerolinecolor\":\"white\",\"zerolinewidth\":2},\"yaxis\":{\"automargin\":true,\"gridcolor\":\"white\",\"linecolor\":\"white\",\"ticks\":\"\",\"title\":{\"standoff\":15},\"zerolinecolor\":\"white\",\"zerolinewidth\":2}}},\"title\":{\"text\":\"Democracy change in Africa\"}},                        {\"responsive\": true}                    ).then(function(){\n",
       "                            \n",
       "var gd = document.getElementById('0b5e5f0f-e06e-4820-ab85-8d329ceb6338');\n",
       "var x = new MutationObserver(function (mutations, observer) {{\n",
       "        var display = window.getComputedStyle(gd).display;\n",
       "        if (!display || display === 'none') {{\n",
       "            console.log([gd, 'removed!']);\n",
       "            Plotly.purge(gd);\n",
       "            observer.disconnect();\n",
       "        }}\n",
       "}});\n",
       "\n",
       "// Listen for the removal of the full notebook cells\n",
       "var notebookContainer = gd.closest('#notebook-container');\n",
       "if (notebookContainer) {{\n",
       "    x.observe(notebookContainer, {childList: true});\n",
       "}}\n",
       "\n",
       "// Listen for the clearing of the current output cell\n",
       "var outputEl = gd.closest('.output');\n",
       "if (outputEl) {{\n",
       "    x.observe(outputEl, {childList: true});\n",
       "}}\n",
       "\n",
       "                        })                };                });            </script>        </div>"
      ]
     },
     "metadata": {},
     "output_type": "display_data"
    }
   ],
   "source": [
    "data = dict(type = 'choropleth', \n",
    "            locations = df_economist_diff['Country'], \n",
    "            locationmode = 'country names', \n",
    "            z = df_economist_diff[\"DifferenceBins\"], \n",
    "            colorscale = 'Greens', \n",
    "            colorbar = {'title' : 'Democracy change'})\n",
    "layout = dict(title = 'Democracy change in Africa', \n",
    "              geo = dict(projection = {'type':'orthographic'},\n",
    "                       scope='world', \n",
    "                       showlakes = False),\n",
    "             geo_projection_rotation_lon=15)\n",
    "x = pg.Figure(data = [data], \n",
    "              layout = layout,)\n",
    "po.iplot(x)\n",
    "x.write_image(\"DemocracyChange.svg\")"
   ]
  },
  {
   "cell_type": "code",
   "execution_count": null,
   "id": "199c812b",
   "metadata": {},
   "outputs": [],
   "source": []
  },
  {
   "cell_type": "code",
   "execution_count": null,
   "id": "fb11dfde",
   "metadata": {},
   "outputs": [],
   "source": []
  },
  {
   "cell_type": "code",
   "execution_count": null,
   "id": "7eec4c6a",
   "metadata": {},
   "outputs": [],
   "source": []
  }
 ],
 "metadata": {
  "kernelspec": {
   "display_name": "Python 3 (ipykernel)",
   "language": "python",
   "name": "python3"
  },
  "language_info": {
   "codemirror_mode": {
    "name": "ipython",
    "version": 3
   },
   "file_extension": ".py",
   "mimetype": "text/x-python",
   "name": "python",
   "nbconvert_exporter": "python",
   "pygments_lexer": "ipython3",
   "version": "3.9.7"
  }
 },
 "nbformat": 4,
 "nbformat_minor": 5
}
